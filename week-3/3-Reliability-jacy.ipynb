{
 "cells": [
  {
   "cell_type": "markdown",
   "metadata": {},
   "source": [
    "# Week 2 - Sampling & Reliability\n",
    "\n",
    "Up until this week, we have assumed that the corpus you have used for analysis assignments represented a *meaningful* assemblage of texts from which reasonable inferences could be drawn about the social game, social world and social actors that produced it. \n",
    "\n",
    "This week, we ask you to build a corpus for preliminary analysis and articulate what your sample represents in context of your final project. We begin by exploring how we can get *human* readings of content at scale. We want to gather and utilize human responses for several reasons. First, we may want to use crowdsourced human scores as the primary method of coding, extracting or organizing content (as it was in two of the assigned readings). Second, we may want to validate or tune a computational algorithm we may have developed in terms of how it is associated with human meanings or experience. Finally, we may want to use human coding on a sample of data as the basis for training a model or algorithm to then extrapolate *human-like* annotations to the entire population. Here intelligent sampling is critical to maximize effective maching training. \n",
    "\n",
    "For this notebook we will be using the following packages"
   ]
  },
  {
   "cell_type": "code",
   "execution_count": 113,
   "metadata": {},
   "outputs": [],
   "source": [
    "#Special module written for this class\n",
    "#This provides access to data and to helper functions from previous weeks\n",
    "#Make sure you update it before starting this notebook\n",
    "import lucem_illud_2020 #pip install -U git+git://github.com/Computational-Content-Analysis-2020/lucem_illud_2020.git\n",
    "\n",
    "#All these packages need to be installed from pip\n",
    "import numpy as np #For arrays\n",
    "import scipy as sp #For some stats\n",
    "import pandas #Gives us DataFrames\n",
    "import matplotlib.pyplot as plt #For graphics\n",
    "import seaborn #Makes the graphics look nicer\n",
    "import pyanno #On python3 make sure to pip install pyanno3\n",
    "\n",
    "#We need to import these this way due to how pyanno is setup\n",
    "from pyanno.measures import pairwise_matrix, agreement, cohens_kappa, cohens_weighted_kappa, fleiss_kappa, krippendorffs_alpha, pearsons_rho, scotts_pi, spearmans_rho\n",
    "from pyanno.annotations import AnnotationsContainer\n",
    "from pyanno.models import ModelA, ModelBt, ModelB\n",
    "\n",
    "from functools import reduce\n",
    "from itertools import permutations\n",
    "import math\n",
    "\n",
    "\n",
    "#This 'magic' command makes the plots work better\n",
    "#in the notebook, don't use it outside of a notebook.\n",
    "#Also you can ignore the warning\n",
    "%matplotlib inline\n",
    "\n",
    "import os #For looking through files\n",
    "import os.path #For managing file paths"
   ]
  },
  {
   "cell_type": "markdown",
   "metadata": {},
   "source": [
    "## <span style=\"color:red\">*Pitch the Domain of your Project*</span>\n",
    "\n",
    "<span style=\"color:red\">In the two cells immediately following, describe **WHAT** you are planning to analyze for your final project (i.e., texts, contexts and the social game, world and actors you intend to learn about through your analysis) (<200 words) and **WHY** you are going to do it (i.e., why would theory and/or the average person benefit from knowing the results of your investigation) (<200 words)? [**Note**: your individual or collective project can change over the course of the quarter if new data and/or analysis opportunities arise or if old ones fade away.]"
   ]
  },
  {
   "cell_type": "markdown",
   "metadata": {},
   "source": [
    "## ***What?*** \n",
    "<200 words\n",
    "\n",
    "I plan to analyze the diverse goals of artificial intelligence, such as efficiency, profit, accuracy, fairness, unbiasedness, interpretability, and security. Are these distinct parts of AI discourse? What are their internal compositions and external associations? How do they overlap? How are these goals framed and made sense of over time? How do they change from before to after AI milestones (e.g. AlphaGo defeating the world Go champion in 2016)?\n",
    "\n",
    "Eventually, I would like to explore texts from (i) AI firms, (ii) business analysts/evaluators, (iii) social scientists, (iv) computer scientists, (v) journalists, but for this class, I'm starting with journalist text via News on the Web (NOW). This also may be most useful for causal inference because AI milestones seem exogenous to the journalistic discourse. Methodologically, I hope to build topic models and word embeddings for the NOW AI corpus, laying out the framing of these goals, and if I have time, conduct a difference-in-difference analysis for the changes from before to after AI milestones, as compared to a NOW blockchain corpus as the baseline. I think a first iteration of that is feasible for my final project, but very open to feedback."
   ]
  },
  {
   "cell_type": "markdown",
   "metadata": {},
   "source": [
    "## ***Why?***\n",
    "<200 words\n",
    "\n",
    "There is a burgeoning yet inchoate management literature on AI. Much of this is theory (e.g. how do algorithms control workers) that dovetails the technical computer science literature on what it can mean for a particular algorithm to be accurate, fair, unbiased, etc. I envision my project as building on and integrating this theory, identifying the discursive features of these AI goals more systematically and comprehensively.\n",
    "\n",
    "In practice, I think juggling these goals is essential for the beneficial deployment of AI. Right now the discussion of AI goals is quite unclear as different values are discussed in different ways. There can be much more clarity. There may also be some goals that are left out or overemphasized, especially among specific groups, or goals that are discussed separately (e.g. privacy vs transparency) that may indicate a neglected overlap of analysis and critique."
   ]
  },
  {
   "cell_type": "markdown",
   "metadata": {},
   "source": [
    "## <span style=\"color:red\">*Pitch Your Sample*</span>\n",
    "\n",
    "<span style=\"color:red\">In the cell immediately following, describe the rationale behind your proposed sample design for your final project. What is the social game, social work, or social actors about whom you are seeking to make inferences? What are its virtues with respect to your research questions? What are its limitations? What are alternatives? What would be a reasonable path to \"scale up\" your sample for further analysis (i.e., high-profile publication)? (<200 words)."
   ]
  },
  {
   "cell_type": "markdown",
   "metadata": {},
   "source": [
    "I am interested in all the relevant discussants of AI. News articles from NOW (which include \"artificial intelligence\", \"AI\", \"machine learning\", \"neural network\", or \"deep learning\") seem to be one such example, arguably even approximating all journalistic discourse. I think at some point I will try to examine ProQuest's newspaper corpuses as well, which may be better quality. While I will trial my analyses with a small sample, I plan to use the complete corpus for my final project. It will be useful to test how various indicators change based on samples of the corpus (e.g. major newspapers, small newspapers, new digital publishers)."
   ]
  },
  {
   "cell_type": "markdown",
   "metadata": {},
   "source": [
    "# Example Annotation Dataset"
   ]
  },
  {
   "cell_type": "markdown",
   "metadata": {},
   "source": [
    "Load Rzhetsky et al (2009)'s sample dataset, which can be found [here](https://github.com/enthought/uchicago-pyanno/tree/master/data). This data is the result of a content analytic / content extraction study in which Andrey Rzhetsky and colleagues from the National Library of Medicine, published [here](http://journals.plos.org/ploscompbiol/article?id=10.1371/journal.pcbi.1000391) in [PLOS Computational Biology](http://journals.plos.org/ploscompbiol/), gave eight annotators 10,000 sentence chunks from biomedical text in biomedical abstracts and articles, then asked them, in a loop design schematically illustrated below that provided 3 independent codings for each document. The sampling strategy pursued diversity by drawing from PubMed abstracts (1000) and full-text articles (9000: 20% from abstracts, 10% from introductions, 20% from methods, 25% from results, and 25% from discussions.) The dataset extract here involves respondents codes for sentences in terms of their *Evidence*: {0, 1, 2, 3, -1} where 0 is the complete lack of evidence, 3 is direct evidence present within the sentence, and -1 is didn't respond. (They also crowdsourced and analyzed *polarity*, *certainty*, and *number*). For example, consider the following two abutting sentence chunks: *\"Because null mutations in toxR and toxT abolish CT and TcpA expression in the El Tor biotype and also attenuate virulence...\"* [i.e., average certainty = 0], *\"...it is likely that the ToxR regulon has functional similarities between the two biotypes despite the clear differences in the inducing parameters observed in vitro\"* [i.e., average certainty = 1].\""
   ]
  },
  {
   "cell_type": "code",
   "execution_count": 114,
   "metadata": {},
   "outputs": [
    {
     "data": {
      "text/html": [
       "<img source=\"loopdesign.png\">\n"
      ],
      "text/plain": [
       "<IPython.core.display.HTML object>"
      ]
     },
     "metadata": {},
     "output_type": "display_data"
    }
   ],
   "source": [
    "%%html\n",
    "<img source=\"loopdesign.png\">"
   ]
  },
  {
   "cell_type": "markdown",
   "metadata": {},
   "source": [
    "[Click here for loop design](loopdesign.png)"
   ]
  },
  {
   "cell_type": "code",
   "execution_count": 115,
   "metadata": {},
   "outputs": [],
   "source": [
    "x = np.loadtxt(\"../data/pyAnno/testdata_numerical.txt\")\n",
    "anno = AnnotationsContainer.from_array(x, missing_values=[-1])"
   ]
  },
  {
   "cell_type": "markdown",
   "metadata": {},
   "source": [
    "Interrogate the AnnotationsContainer object."
   ]
  },
  {
   "cell_type": "code",
   "execution_count": 116,
   "metadata": {},
   "outputs": [
    {
     "data": {
      "text/plain": [
       "array([[ 1,  2,  3, ..., -1, -1, -1],\n",
       "       [ 0,  0,  0, ..., -1, -1, -1],\n",
       "       [ 2,  2,  1, ..., -1, -1, -1],\n",
       "       ...,\n",
       "       [ 2,  2, -1, ..., -1, -1,  1],\n",
       "       [ 2,  2, -1, ..., -1, -1,  3],\n",
       "       [ 1,  1, -1, ..., -1, -1,  0]])"
      ]
     },
     "execution_count": 116,
     "metadata": {},
     "output_type": "execute_result"
    }
   ],
   "source": [
    "anno.annotations"
   ]
  },
  {
   "cell_type": "code",
   "execution_count": 117,
   "metadata": {},
   "outputs": [
    {
     "data": {
      "text/plain": [
       "[1.0, 2.0, 3.0, 4.0]"
      ]
     },
     "execution_count": 117,
     "metadata": {},
     "output_type": "execute_result"
    }
   ],
   "source": [
    "anno.labels"
   ]
  },
  {
   "cell_type": "code",
   "execution_count": 118,
   "metadata": {},
   "outputs": [
    {
     "data": {
      "text/plain": [
       "[-1]"
      ]
     },
     "execution_count": 118,
     "metadata": {},
     "output_type": "execute_result"
    }
   ],
   "source": [
    "anno.missing_values"
   ]
  },
  {
   "cell_type": "markdown",
   "metadata": {},
   "source": [
    "# Annotation Statistics"
   ]
  },
  {
   "cell_type": "markdown",
   "metadata": {},
   "source": [
    "First, we assume categorical codes...that each code is qualitatively distinct from each other. Two measures are primarily used for this: Scott's $\\pi$, Cohen's $\\kappa$, and Krippendorff's $\\alpha$ which each measure the extent of agreement between two annotators, but take into account the possibility of the agreement occurring by chance in slightly different ways. Any agreement measure begins with the frequency of codes:"
   ]
  },
  {
   "cell_type": "code",
   "execution_count": 119,
   "metadata": {},
   "outputs": [
    {
     "data": {
      "text/plain": [
       "array([0.11666667, 0.245     , 0.34083333, 0.2975    ])"
      ]
     },
     "execution_count": 119,
     "metadata": {},
     "output_type": "execute_result"
    }
   ],
   "source": [
    "pyanno.measures.agreement.labels_frequency(anno.annotations,4)"
   ]
  },
  {
   "cell_type": "markdown",
   "metadata": {},
   "source": [
    "Now consider the \"confusion matrix\" or matrix of coded agreements between any two coders:"
   ]
  },
  {
   "cell_type": "code",
   "execution_count": 120,
   "metadata": {},
   "outputs": [
    {
     "name": "stdout",
     "output_type": "stream",
     "text": [
      "[[ 8.  7.  3.  2.]\n",
      " [ 9. 30. 13.  3.]\n",
      " [ 2.  9. 42. 11.]\n",
      " [ 1.  7. 14. 39.]]\n"
     ]
    },
    {
     "data": {
      "image/png": "[encoded data removed]",
      "text/plain": [
       "<Figure size 432x288 with 2 Axes>"
      ]
     },
     "metadata": {
      "needs_background": "light"
     },
     "output_type": "display_data"
    }
   ],
   "source": [
    "c = pyanno.measures.agreement.confusion_matrix(anno.annotations[:,0], anno.annotations[:,1],4)\n",
    "print(c)\n",
    "ac = seaborn.heatmap(c)\n",
    "plt.show()"
   ]
  },
  {
   "cell_type": "markdown",
   "metadata": {},
   "source": [
    "Scott's $\\pi$ is computed as:\n",
    "\n",
    "$\\pi = \\frac{\\text{Pr}(a)-\\text{Pr}(e)}{1-\\text{Pr}(e)}$\n",
    "\n",
    "Where Pr($a$) is relative observed agreement, and Pr($e$) is expected agreement using joint proportions calculated from the confusion matrix or matrix of coded agreements between any two coders:"
   ]
  },
  {
   "cell_type": "code",
   "execution_count": 121,
   "metadata": {},
   "outputs": [
    {
     "data": {
      "text/plain": [
       "0.4386478265891502"
      ]
     },
     "execution_count": 121,
     "metadata": {},
     "output_type": "execute_result"
    }
   ],
   "source": [
    "scotts_pi(anno.annotations[:,0], anno.annotations[:,1])"
   ]
  },
  {
   "cell_type": "markdown",
   "metadata": {},
   "source": [
    "The generalization of Scott's $\\pi$ to $n$ coders is Fleiss' $\\kappa$ (Fleiss called it $\\kappa$ because he thought he was generalizing Cohen's $\\kappa$)"
   ]
  },
  {
   "cell_type": "code",
   "execution_count": 122,
   "metadata": {},
   "outputs": [
    {
     "data": {
      "text/plain": [
       "0.40417653771912765"
      ]
     },
     "execution_count": 122,
     "metadata": {},
     "output_type": "execute_result"
    }
   ],
   "source": [
    "fleiss_kappa(anno.annotations[::])"
   ]
  },
  {
   "cell_type": "markdown",
   "metadata": {},
   "source": [
    "Krippendorff's $\\alpha$ generalizes of Fleiss' $\\kappa$ to $n$ coders and takes into account the fact that annotations here are not categorically different, but ordinal, by adding a weight matrix in which off-diagonal cells contain weights indicating the seriousness of the disagreement between each score. When produced with no arguments, it simply produces an arithmetic distance (e.g., 3-1=2), such that cells one off the diagonal are weighted 1, two off 2, etc."
   ]
  },
  {
   "cell_type": "code",
   "execution_count": 123,
   "metadata": {},
   "outputs": [
    {
     "data": {
      "text/plain": [
       "0.6472588223831547"
      ]
     },
     "execution_count": 123,
     "metadata": {},
     "output_type": "execute_result"
    }
   ],
   "source": [
    "krippendorffs_alpha(anno.annotations[::])"
   ]
  },
  {
   "cell_type": "markdown",
   "metadata": {},
   "source": [
    "Like Scott's $\\pi$, Cohen's $\\kappa$ also takes into account the possibility of the agreement occurring by chance, but in the following way:\n",
    "\n",
    "$\\kappa = \\frac{p_o-p_e}{1-p_e}=1-\\frac{1-p_o}{p_e}$\n",
    "\n",
    "where $p_o$ is the relative observed agreement among raters, and $p_e$ is the hypothetical probability of chance agreement, using the observed data to calculate the probabilities of each observer randomly saying each category. If the raters are in complete agreement then $\\kappa = 1$. If there is no agreement among the raters other than what would be expected by chance (as given by $p_e$), $\\kappa ≤ 0 $. Here, Cohen's $\\kappa$ statistic for the first two annotators is computed. This is probably the most common metric of agreement."
   ]
  },
  {
   "cell_type": "code",
   "execution_count": 124,
   "metadata": {},
   "outputs": [
    {
     "data": {
      "text/plain": [
       "0.43917037219392857"
      ]
     },
     "execution_count": 124,
     "metadata": {},
     "output_type": "execute_result"
    }
   ],
   "source": [
    "cohens_kappa(anno.annotations[:,0], anno.annotations[:,1])"
   ]
  },
  {
   "cell_type": "code",
   "execution_count": 125,
   "metadata": {},
   "outputs": [
    {
     "name": "stdout",
     "output_type": "stream",
     "text": [
      "[[1.         0.43917037 0.47677621        nan        nan        nan\n",
      "  0.45819119 0.43381462]\n",
      " [0.43917037 1.         0.38432922 0.41344423        nan        nan\n",
      "         nan 0.33643611]\n",
      " [0.47677621 0.38432922 1.         0.39583333 0.51704894        nan\n",
      "         nan        nan]\n",
      " [       nan 0.41344423 0.39583333 1.         0.34597068 0.4446844\n",
      "         nan        nan]\n",
      " [       nan        nan 0.51704894 0.34597068 1.         0.37938644\n",
      "  0.43039733        nan]\n",
      " [       nan        nan        nan 0.4446844  0.37938644 1.\n",
      "  0.38341929 0.31214748]\n",
      " [0.45819119        nan        nan        nan 0.43039733 0.38341929\n",
      "  1.         0.394806  ]\n",
      " [0.43381462 0.33643611        nan        nan        nan 0.31214748\n",
      "  0.394806   1.        ]]\n"
     ]
    }
   ],
   "source": [
    "m = pairwise_matrix(cohens_kappa, anno.annotations)\n",
    "print(m)"
   ]
  },
  {
   "cell_type": "code",
   "execution_count": 126,
   "metadata": {},
   "outputs": [
    {
     "data": {
      "image/png": "[encoded data removed]",
      "text/plain": [
       "<Figure size 432x288 with 2 Axes>"
      ]
     },
     "metadata": {
      "needs_background": "light"
     },
     "output_type": "display_data"
    }
   ],
   "source": [
    "ax = seaborn.heatmap(m)\n",
    "plt.show()"
   ]
  },
  {
   "cell_type": "markdown",
   "metadata": {},
   "source": [
    "You can see that this 8 by 3 loop design will be less stable than an 8 choose 3 combinatorial design, because each codes with more others. "
   ]
  },
  {
   "cell_type": "markdown",
   "metadata": {},
   "source": [
    "One can also assess the average Cohen's $\\kappa$ for all pairs of coders that have coded against one another:"
   ]
  },
  {
   "cell_type": "code",
   "execution_count": 127,
   "metadata": {},
   "outputs": [
    {
     "data": {
      "text/plain": [
       "0.40911598940065674"
      ]
     },
     "execution_count": 127,
     "metadata": {},
     "output_type": "execute_result"
    }
   ],
   "source": [
    "def pairwise_metric_average(metric, array):\n",
    "    \"\"\"Calculate the pairwise metric average for the real elements of metric function run on an array of annotations\"\"\"\n",
    "    p = permutations(range(array[0,:].size),2)\n",
    "    m = [metric(array[:,x[0]], array[:,x[1]]) for x in p]\n",
    "    clean_m = [c for c in m if not math.isnan(c)]\n",
    "    return reduce(lambda a, b: a + b, clean_m)/len(clean_m)    \n",
    " \n",
    "pairwise_metric_average(cohens_kappa, anno.annotations)"
   ]
  },
  {
   "cell_type": "markdown",
   "metadata": {},
   "source": [
    "As recognized with Krippendorff's flexible $\\alpha$, our scores are *not* categorical, but rather ordered and her considered metric. Weighted $\\kappa$ allows you to count disagreements differently and is useful when codes are ordered as they are here. Here a weight matrix is added to the calculation, in which off-diagonal cells contain weights indicating the seriousness of the disagreement between each score. When automatically produced, it simply produces an arithmetic distance (e.g., 3-1=2), such that cells one off the diagonal are weighted 1, two off 2, etc. Here\n",
    "\n",
    "$\\kappa = 1-\\frac{\\sum^k_{i=1}\\sum^k_{j=1}w_{ij}x_{ij}}{\\sum^k_{i=1}\\sum^k_{j=1}w_{ij}m_{ij}}$\n",
    "\n",
    "where $\\kappa$ = $n$ codes and $w_{ij}$,$x_{ij}$, and $m_{ij}$ represent elements in the weight, observed, and expected matrices, respectively. (Obviously, when diagonal cells contain weights of 0 and off-diagonal cells weights of 1, this equals $\\kappa$)."
   ]
  },
  {
   "cell_type": "code",
   "execution_count": 128,
   "metadata": {},
   "outputs": [
    {
     "data": {
      "text/plain": [
       "0.5330240507874497"
      ]
     },
     "execution_count": 128,
     "metadata": {},
     "output_type": "execute_result"
    }
   ],
   "source": [
    "cohens_weighted_kappa(anno.annotations[:,0], anno.annotations[:,1])"
   ]
  },
  {
   "cell_type": "markdown",
   "metadata": {},
   "source": [
    "Or averaged over the total:"
   ]
  },
  {
   "cell_type": "code",
   "execution_count": 129,
   "metadata": {},
   "outputs": [
    {
     "data": {
      "text/plain": [
       "0.5299113458717166"
      ]
     },
     "execution_count": 129,
     "metadata": {},
     "output_type": "execute_result"
    }
   ],
   "source": [
    "pairwise_metric_average(cohens_weighted_kappa,anno.annotations)"
   ]
  },
  {
   "cell_type": "markdown",
   "metadata": {},
   "source": [
    "Alternatively, if the annontation data can be understood as indicating real values, we can assess not agreement, but rather the correlation of values (Pearson's $\\rho$) or correlation of ranks (Spearman's $\\rho$) for pairs of coders:"
   ]
  },
  {
   "cell_type": "code",
   "execution_count": 130,
   "metadata": {},
   "outputs": [
    {
     "data": {
      "image/png": "[encoded data removed]",
      "text/plain": [
       "<Figure size 432x288 with 2 Axes>"
      ]
     },
     "metadata": {
      "needs_background": "light"
     },
     "output_type": "display_data"
    },
    {
     "data": {
      "image/png": "[encoded data removed]",
      "text/plain": [
       "<Figure size 432x288 with 2 Axes>"
      ]
     },
     "metadata": {
      "needs_background": "light"
     },
     "output_type": "display_data"
    }
   ],
   "source": [
    "n = pairwise_matrix(pearsons_rho, anno.annotations)\n",
    "m = pairwise_matrix(spearmans_rho, anno.annotations)\n",
    "an = seaborn.heatmap(n)\n",
    "plt.show()\n",
    "am = seaborn.heatmap(m)\n",
    "plt.show()"
   ]
  },
  {
   "cell_type": "markdown",
   "metadata": {},
   "source": [
    "Or averaged over all comparable pairs:"
   ]
  },
  {
   "cell_type": "code",
   "execution_count": 131,
   "metadata": {},
   "outputs": [
    {
     "name": "stdout",
     "output_type": "stream",
     "text": [
      "0.651721932117508 0.63808488688039\n"
     ]
    }
   ],
   "source": [
    "print(pairwise_metric_average(pearsons_rho,anno.annotations), pairwise_metric_average(spearmans_rho,anno.annotations))"
   ]
  },
  {
   "cell_type": "markdown",
   "metadata": {},
   "source": [
    "## <span style=\"color:red\">*Your turn*</span>\n",
    "\n",
    "<span style=\"color:red\">Perform a content annotation survey of some kind in which at least 3 people evaluate and code each piece of content, using Amazon Mechanical Turk as described in the MTurk slides in the Assignment link on Canvas, or by hand with friends.  With the resulting data, calculate, visualize and discuss inter-coder agreement or covariation with appropriate metrics. What does this means for the reliability of human assessments regarding content in your domain?"
   ]
  },
  {
   "cell_type": "code",
   "execution_count": 213,
   "metadata": {},
   "outputs": [
    {
     "data": {
      "text/plain": [
       "array([[0, 1, 2, 3, 4],\n",
       "       [8, 9, 4, 7, 9],\n",
       "       [5, 9, 0, 6, 9],\n",
       "       [1, 0, 1, 0, 0],\n",
       "       [2, 0, 7, 0, 0],\n",
       "       [1, 6, 6, 4, 4],\n",
       "       [3, 1, 6, 1, 2],\n",
       "       [7, 1, 6, 4, 0],\n",
       "       [1, 0, 7, 1, 0],\n",
       "       [4, 7, 9, 4, 4],\n",
       "       [1, 2, 3, 4, 0],\n",
       "       [5, 8, 3, 7, 7],\n",
       "       [7, 9, 4, 4, 9],\n",
       "       [1, 0, 2, 0, 1],\n",
       "       [6, 6, 2, 0, 4],\n",
       "       [2, 2, 6, 0, 4],\n",
       "       [8, 8, 1, 4, 7],\n",
       "       [8, 9, 1, 9, 9],\n",
       "       [9, 9, 3, 9, 9],\n",
       "       [0, 0, 5, 1, 0],\n",
       "       [1, 9, 7, 2, 8]])"
      ]
     },
     "execution_count": 213,
     "metadata": {},
     "output_type": "execute_result"
    }
   ],
   "source": [
    "import pandas as pd\n",
    "import numpy as np\n",
    "\n",
    "#df = pd.read_csv('aiAnnotations.csv')\n",
    "#df.labels = [1.0, 2.0, 3.0, 4.0]\n",
    "#df.labels\n",
    "#df\n",
    "x = np.loadtxt(\"aiAnnotations.txt\")\n",
    "aiAnno = AnnotationsContainer.from_array(x, missing_values=[-1])\n",
    "aiAnno.annotations"
   ]
  },
  {
   "cell_type": "code",
   "execution_count": 214,
   "metadata": {},
   "outputs": [
    {
     "data": {
      "text/plain": [
       "[1.0, 2.0, 3.0, 4.0, 5.0, 6.0, 7.0, 8.0, 9.0, 10.0]"
      ]
     },
     "execution_count": 214,
     "metadata": {},
     "output_type": "execute_result"
    }
   ],
   "source": [
    "aiAnno.labels"
   ]
  },
  {
   "cell_type": "code",
   "execution_count": 133,
   "metadata": {},
   "outputs": [
    {
     "data": {
      "text/plain": [
       "array([0.18095238, 0.15238095, 0.08571429, 0.04761905, 0.13333333,\n",
       "       0.02857143, 0.07619048, 0.0952381 , 0.05714286, 0.14285714])"
      ]
     },
     "execution_count": 133,
     "metadata": {},
     "output_type": "execute_result"
    }
   ],
   "source": [
    "pyanno.measures.agreement.labels_frequency(aiAnno.annotations,4)"
   ]
  },
  {
   "cell_type": "code",
   "execution_count": 134,
   "metadata": {},
   "outputs": [
    {
     "name": "stdout",
     "output_type": "stream",
     "text": [
      "[[1. 1. 0. 0.]\n",
      " [3. 0. 1. 0.]\n",
      " [1. 0. 1. 0.]\n",
      " [0. 1. 0. 0.]]\n"
     ]
    },
    {
     "data": {
      "image/png": "[encoded data removed]",
      "text/plain": [
       "<Figure size 432x288 with 2 Axes>"
      ]
     },
     "metadata": {
      "needs_background": "light"
     },
     "output_type": "display_data"
    }
   ],
   "source": [
    "c = pyanno.measures.agreement.confusion_matrix(aiAnno.annotations[:,0], aiAnno.annotations[:,1],4)\n",
    "print(c)\n",
    "ac = seaborn.heatmap(c)\n",
    "plt.show()"
   ]
  },
  {
   "cell_type": "code",
   "execution_count": 135,
   "metadata": {},
   "outputs": [
    {
     "data": {
      "text/plain": [
       "0.11578947368421054"
      ]
     },
     "execution_count": 135,
     "metadata": {},
     "output_type": "execute_result"
    }
   ],
   "source": [
    "scotts_pi(aiAnno.annotations[:,0], aiAnno.annotations[:,1])"
   ]
  },
  {
   "cell_type": "code",
   "execution_count": 136,
   "metadata": {},
   "outputs": [
    {
     "data": {
      "text/plain": [
       "0.060949131513647656"
      ]
     },
     "execution_count": 136,
     "metadata": {},
     "output_type": "execute_result"
    }
   ],
   "source": [
    "fleiss_kappa(aiAnno.annotations[::])"
   ]
  },
  {
   "cell_type": "code",
   "execution_count": 137,
   "metadata": {},
   "outputs": [
    {
     "data": {
      "text/plain": [
       "0.38836417260629896"
      ]
     },
     "execution_count": 137,
     "metadata": {},
     "output_type": "execute_result"
    }
   ],
   "source": [
    "krippendorffs_alpha(aiAnno.annotations[::])"
   ]
  },
  {
   "cell_type": "code",
   "execution_count": 138,
   "metadata": {},
   "outputs": [
    {
     "data": {
      "text/plain": [
       "0.14503816793893132"
      ]
     },
     "execution_count": 138,
     "metadata": {},
     "output_type": "execute_result"
    }
   ],
   "source": [
    "cohens_kappa(aiAnno.annotations[:,0], aiAnno.annotations[:,1])"
   ]
  },
  {
   "cell_type": "code",
   "execution_count": 139,
   "metadata": {},
   "outputs": [
    {
     "name": "stdout",
     "output_type": "stream",
     "text": [
      "[[ 1.          0.14503817 -0.05793451  0.04785894  0.11633663]\n",
      " [ 0.14503817  1.         -0.03960396  0.19023136  0.32258065]\n",
      " [-0.05793451 -0.03960396  1.         -0.05793451 -0.08088235]\n",
      " [ 0.04785894  0.19023136 -0.05793451  1.          0.19008264]\n",
      " [ 0.11633663  0.32258065 -0.08088235  0.19008264  1.        ]]\n"
     ]
    }
   ],
   "source": [
    "m = pairwise_matrix(cohens_kappa, aiAnno.annotations)\n",
    "print(m)"
   ]
  },
  {
   "cell_type": "code",
   "execution_count": 140,
   "metadata": {},
   "outputs": [
    {
     "data": {
      "image/png": "[encoded data removed]",
      "text/plain": [
       "<Figure size 432x288 with 2 Axes>"
      ]
     },
     "metadata": {
      "needs_background": "light"
     },
     "output_type": "display_data"
    }
   ],
   "source": [
    "ax = seaborn.heatmap(m)\n",
    "plt.show()"
   ]
  },
  {
   "cell_type": "code",
   "execution_count": 141,
   "metadata": {},
   "outputs": [
    {
     "data": {
      "text/plain": [
       "0.07757730649555868"
      ]
     },
     "execution_count": 141,
     "metadata": {},
     "output_type": "execute_result"
    }
   ],
   "source": [
    "def pairwise_metric_average(metric, array):\n",
    "    \"\"\"Calculate the pairwise metric average for the real elements of metric function run on an array of annotations\"\"\"\n",
    "    p = permutations(range(array[0,:].size),2)\n",
    "    m = [metric(array[:,x[0]], array[:,x[1]]) for x in p]\n",
    "    clean_m = [c for c in m if not math.isnan(c)]\n",
    "    return reduce(lambda a, b: a + b, clean_m)/len(clean_m)    \n",
    " \n",
    "pairwise_metric_average(cohens_kappa, aiAnno.annotations)"
   ]
  },
  {
   "cell_type": "code",
   "execution_count": 142,
   "metadata": {},
   "outputs": [
    {
     "data": {
      "text/plain": [
       "0.4965753424657534"
      ]
     },
     "execution_count": 142,
     "metadata": {},
     "output_type": "execute_result"
    }
   ],
   "source": [
    "cohens_weighted_kappa(aiAnno.annotations[:,0], aiAnno.annotations[:,1])"
   ]
  },
  {
   "cell_type": "code",
   "execution_count": 143,
   "metadata": {},
   "outputs": [
    {
     "data": {
      "text/plain": [
       "0.2383717209978879"
      ]
     },
     "execution_count": 143,
     "metadata": {},
     "output_type": "execute_result"
    }
   ],
   "source": [
    "pairwise_metric_average(cohens_weighted_kappa,aiAnno.annotations)"
   ]
  },
  {
   "cell_type": "code",
   "execution_count": 144,
   "metadata": {},
   "outputs": [
    {
     "data": {
      "image/png": "[encoded data removed]",
      "text/plain": [
       "<Figure size 432x288 with 2 Axes>"
      ]
     },
     "metadata": {
      "needs_background": "light"
     },
     "output_type": "display_data"
    },
    {
     "data": {
      "image/png": "[encoded data removed]",
      "text/plain": [
       "<Figure size 432x288 with 2 Axes>"
      ]
     },
     "metadata": {
      "needs_background": "light"
     },
     "output_type": "display_data"
    }
   ],
   "source": [
    "n = pairwise_matrix(pearsons_rho, aiAnno.annotations)\n",
    "m = pairwise_matrix(spearmans_rho, aiAnno.annotations)\n",
    "an = seaborn.heatmap(n)\n",
    "plt.show()\n",
    "am = seaborn.heatmap(m)\n",
    "plt.show()"
   ]
  },
  {
   "cell_type": "code",
   "execution_count": 145,
   "metadata": {},
   "outputs": [
    {
     "name": "stdout",
     "output_type": "stream",
     "text": [
      "0.3283370402343221 0.32783667369988934\n"
     ]
    }
   ],
   "source": [
    "print(pairwise_metric_average(pearsons_rho,aiAnno.annotations), pairwise_metric_average(spearmans_rho,aiAnno.annotations))"
   ]
  },
  {
   "cell_type": "code",
   "execution_count": 146,
   "metadata": {},
   "outputs": [],
   "source": [
    "#The reliability of human assessments is low, but this may be due to it being M Turk and having only 5 people."
   ]
  },
  {
   "cell_type": "markdown",
   "metadata": {},
   "source": [
    "# Models"
   ]
  },
  {
   "cell_type": "markdown",
   "metadata": {},
   "source": [
    "However, what if some coders are better than others. The prior measures all rely on the assumption that all coders are equally good. What if some are worse than others? Now we use Rzhetsky et al (2009) and Dawid & Skene's models to make inference about true label classes by downweighting bad or deviant coders. Pyanno provides three relevant models: ModelA, ModelB, and ModelBt. Model A can only be currently run on a balanced 8-coder design, but assesses accuracy purely based on agreement. Model B with $\\theta$s models the relationship between each coder and code. Model B is the Dawid & Skene model from the reading. The following image schematically suggests the relationship between the models. <img src=\"../data/models.png\">"
   ]
  },
  {
   "cell_type": "markdown",
   "metadata": {},
   "source": [
    "The models should provide similar results. To estimate the parameters for any models, we first need to create a new model. "
   ]
  },
  {
   "cell_type": "code",
   "execution_count": 147,
   "metadata": {},
   "outputs": [
    {
     "name": "stdout",
     "output_type": "stream",
     "text": [
      "[[[6.99870689e-01 2.31778614e-01 6.75178705e-02 8.32827215e-04]\n",
      "  [1.26479255e-01 5.26973619e-01 3.28432826e-01 1.81142999e-02]\n",
      "  [6.42592212e-02 2.39867794e-01 5.91827879e-01 1.04045106e-01]\n",
      "  [3.49864795e-03 3.84178857e-02 2.07069431e-01 7.51014035e-01]]\n",
      "\n",
      " [[8.58048587e-01 8.80867656e-02 2.55951492e-02 2.82694984e-02]\n",
      "  [2.29273859e-01 6.42091868e-01 9.35144278e-02 3.51198450e-02]\n",
      "  [4.41521492e-02 9.43718832e-02 6.69705464e-01 1.91770504e-01]\n",
      "  [1.84456373e-02 6.67491830e-02 9.64179401e-02 8.18387240e-01]]\n",
      "\n",
      " [[7.02884734e-01 1.88224464e-01 1.01700228e-01 7.19057400e-03]\n",
      "  [1.24717361e-01 5.78461722e-01 2.15882930e-01 8.09379869e-02]\n",
      "  [6.73600652e-02 1.06183386e-01 7.23331173e-01 1.03125376e-01]\n",
      "  [6.61577107e-03 2.11160058e-02 8.32206694e-02 8.89047554e-01]]\n",
      "\n",
      " [[6.64565690e-01 8.70439729e-02 2.00333685e-01 4.80566527e-02]\n",
      "  [8.62647697e-02 6.45752347e-01 2.28846386e-01 3.91364979e-02]\n",
      "  [5.26308089e-02 1.06344041e-01 7.07517729e-01 1.33507422e-01]\n",
      "  [4.68114523e-02 5.75277022e-02 1.53235772e-01 7.42425073e-01]]\n",
      "\n",
      " [[6.33401100e-01 2.52676869e-01 7.31640427e-02 4.07579885e-02]\n",
      "  [1.68070283e-01 6.02831525e-01 1.79116438e-01 4.99817542e-02]\n",
      "  [1.74043703e-02 1.04464041e-01 6.47759854e-01 2.30371734e-01]\n",
      "  [5.15386763e-02 9.12835666e-02 3.00507398e-01 5.56670359e-01]]\n",
      "\n",
      " [[7.25175858e-01 1.16925331e-01 9.11050125e-02 6.67937985e-02]\n",
      "  [1.21052192e-01 6.54844717e-01 1.11487899e-01 1.12615192e-01]\n",
      "  [8.82081263e-02 1.42403904e-01 6.06133670e-01 1.63254300e-01]\n",
      "  [1.18323286e-02 1.43509232e-02 3.25739057e-01 6.48077691e-01]]\n",
      "\n",
      " [[5.91126264e-01 1.12087353e-01 2.61736530e-01 3.50498538e-02]\n",
      "  [7.97004012e-02 6.73756179e-01 1.98326675e-01 4.82167446e-02]\n",
      "  [8.26886512e-02 2.98703050e-01 5.06436207e-01 1.12172092e-01]\n",
      "  [3.17720452e-03 3.66989981e-02 9.71925839e-02 8.62931213e-01]]\n",
      "\n",
      " [[8.26414211e-01 8.42089186e-02 7.70038907e-02 1.23729797e-02]\n",
      "  [1.77340503e-01 6.59281464e-01 1.44945718e-01 1.84323149e-02]\n",
      "  [1.78305059e-02 1.67187302e-01 5.81988111e-01 2.32994081e-01]\n",
      "  [3.59203369e-02 9.91961312e-02 2.44495115e-01 6.20388416e-01]]]\n",
      "-2952.753036554845\n"
     ]
    }
   ],
   "source": [
    "# create a new instance of model A, with 4 label classes\n",
    "model = ModelB.create_initial_state(4, 8)\n",
    "# other model parameters are initialized from the model prior\n",
    "print(model.theta)\n",
    "print(model.log_likelihood(anno.annotations))"
   ]
  },
  {
   "cell_type": "code",
   "execution_count": 148,
   "metadata": {},
   "outputs": [],
   "source": [
    "samples = model.sample_posterior_over_accuracy(anno.annotations, 200, burn_in_samples=100, thin_samples=3)"
   ]
  },
  {
   "cell_type": "markdown",
   "metadata": {},
   "source": [
    "Pyanno allows one to use either MLE (maximum likelihood estimation) or MAP (maximum a posteriori estimation) to estimate model parameters. Note that the parameters here correspond to our estimation of the accuracy of each annotator."
   ]
  },
  {
   "cell_type": "code",
   "execution_count": 149,
   "metadata": {},
   "outputs": [
    {
     "name": "stdout",
     "output_type": "stream",
     "text": [
      "[[[7.73398728e-01 2.01020245e-01 2.55810269e-02 1.20101219e-26]\n",
      "  [1.47832659e-01 7.11503767e-01 7.66499157e-02 6.40136580e-02]\n",
      "  [1.97431020e-02 1.48708709e-01 6.96639326e-01 1.34908863e-01]\n",
      "  [2.52463780e-18 2.13647377e-02 8.51550428e-02 8.93480220e-01]]\n",
      "\n",
      " [[7.19395465e-01 2.01828761e-01 7.87757734e-02 1.55486964e-13]\n",
      "  [1.33941799e-01 7.07223261e-01 1.10418200e-01 4.84167403e-02]\n",
      "  [2.72093282e-02 1.65178369e-01 6.71232700e-01 1.36379603e-01]\n",
      "  [2.15358721e-30 5.38211823e-02 1.21871740e-01 8.24307077e-01]]\n",
      "\n",
      " [[8.50073137e-01 1.22955501e-01 2.69713621e-02 3.64395738e-42]\n",
      "  [8.93514251e-02 7.89280333e-01 8.93429608e-02 3.20252811e-02]\n",
      "  [6.11638366e-02 1.29121422e-01 7.03992731e-01 1.05722011e-01]\n",
      "  [6.53666390e-03 5.12606512e-02 2.10869595e-01 7.31333090e-01]]\n",
      "\n",
      " [[6.99612801e-01 2.70976969e-01 2.94102301e-02 8.57899704e-52]\n",
      "  [9.67171336e-02 7.62615701e-01 1.09523823e-01 3.11433425e-02]\n",
      "  [1.81150586e-02 1.45472330e-01 6.85587954e-01 1.50824657e-01]\n",
      "  [2.71897111e-47 2.98511124e-02 2.28749569e-01 7.41399319e-01]]\n",
      "\n",
      " [[8.11803144e-01 1.19373545e-01 6.88233110e-02 9.13991546e-49]\n",
      "  [1.24726986e-01 6.93211818e-01 1.47008725e-01 3.50524714e-02]\n",
      "  [1.10580622e-02 2.13907919e-01 6.46719976e-01 1.28314044e-01]\n",
      "  [6.58948915e-52 5.98095047e-02 1.82979139e-01 7.57211357e-01]]\n",
      "\n",
      " [[7.71186748e-01 2.05349662e-01 2.34635900e-02 1.87519848e-51]\n",
      "  [1.10920303e-01 6.98703449e-01 1.62586425e-01 2.77898237e-02]\n",
      "  [2.69432947e-02 1.74971748e-01 6.58688648e-01 1.39396309e-01]\n",
      "  [1.04070689e-20 8.19488668e-02 1.50728042e-01 7.67323091e-01]]\n",
      "\n",
      " [[7.77751875e-01 1.41612394e-01 8.06357307e-02 7.49343463e-22]\n",
      "  [1.14108703e-01 6.72056519e-01 1.68346177e-01 4.54886006e-02]\n",
      "  [1.60943993e-02 1.18997632e-01 7.24591200e-01 1.40316769e-01]\n",
      "  [9.41957786e-52 4.72911966e-02 1.30538454e-01 8.22170350e-01]]\n",
      "\n",
      " [[8.52754118e-01 1.18087361e-01 2.91585215e-02 1.95577162e-42]\n",
      "  [1.29319568e-01 6.36012446e-01 1.95669325e-01 3.89986612e-02]\n",
      "  [2.96631200e-02 1.67273811e-01 6.42736730e-01 1.60326339e-01]\n",
      "  [1.03418107e-24 4.32627993e-02 1.13010804e-01 8.43726397e-01]]]\n",
      "-2625.8850676193924\n"
     ]
    }
   ],
   "source": [
    "model.map(anno.annotations)\n",
    "print(model.theta)\n",
    "print(model.log_likelihood(anno.annotations))"
   ]
  },
  {
   "cell_type": "code",
   "execution_count": 150,
   "metadata": {},
   "outputs": [
    {
     "name": "stdout",
     "output_type": "stream",
     "text": [
      "[[[7.73398728e-01 2.01020245e-01 2.55810269e-02 1.20101219e-26]\n",
      "  [1.47832659e-01 7.11503767e-01 7.66499157e-02 6.40136580e-02]\n",
      "  [1.97431020e-02 1.48708709e-01 6.96639326e-01 1.34908863e-01]\n",
      "  [2.52463780e-18 2.13647377e-02 8.51550428e-02 8.93480220e-01]]\n",
      "\n",
      " [[7.19395465e-01 2.01828761e-01 7.87757734e-02 1.55486964e-13]\n",
      "  [1.33941799e-01 7.07223261e-01 1.10418200e-01 4.84167403e-02]\n",
      "  [2.72093282e-02 1.65178369e-01 6.71232700e-01 1.36379603e-01]\n",
      "  [2.15358721e-30 5.38211823e-02 1.21871740e-01 8.24307077e-01]]\n",
      "\n",
      " [[8.50073137e-01 1.22955501e-01 2.69713621e-02 3.64395738e-42]\n",
      "  [8.93514251e-02 7.89280333e-01 8.93429608e-02 3.20252811e-02]\n",
      "  [6.11638366e-02 1.29121422e-01 7.03992731e-01 1.05722011e-01]\n",
      "  [6.53666390e-03 5.12606512e-02 2.10869595e-01 7.31333090e-01]]\n",
      "\n",
      " [[6.99612801e-01 2.70976969e-01 2.94102301e-02 8.57899704e-52]\n",
      "  [9.67171336e-02 7.62615701e-01 1.09523823e-01 3.11433425e-02]\n",
      "  [1.81150586e-02 1.45472330e-01 6.85587954e-01 1.50824657e-01]\n",
      "  [2.71897111e-47 2.98511124e-02 2.28749569e-01 7.41399319e-01]]\n",
      "\n",
      " [[8.11803144e-01 1.19373545e-01 6.88233110e-02 9.13991546e-49]\n",
      "  [1.24726986e-01 6.93211818e-01 1.47008725e-01 3.50524714e-02]\n",
      "  [1.10580622e-02 2.13907919e-01 6.46719976e-01 1.28314044e-01]\n",
      "  [6.58948915e-52 5.98095047e-02 1.82979139e-01 7.57211357e-01]]\n",
      "\n",
      " [[7.71186748e-01 2.05349662e-01 2.34635900e-02 1.87519848e-51]\n",
      "  [1.10920303e-01 6.98703449e-01 1.62586425e-01 2.77898237e-02]\n",
      "  [2.69432947e-02 1.74971748e-01 6.58688648e-01 1.39396309e-01]\n",
      "  [1.04070689e-20 8.19488668e-02 1.50728042e-01 7.67323091e-01]]\n",
      "\n",
      " [[7.77751875e-01 1.41612394e-01 8.06357307e-02 7.49343463e-22]\n",
      "  [1.14108703e-01 6.72056519e-01 1.68346177e-01 4.54886006e-02]\n",
      "  [1.60943993e-02 1.18997632e-01 7.24591200e-01 1.40316769e-01]\n",
      "  [9.41957786e-52 4.72911966e-02 1.30538454e-01 8.22170350e-01]]\n",
      "\n",
      " [[8.52754118e-01 1.18087361e-01 2.91585215e-02 1.95577162e-42]\n",
      "  [1.29319568e-01 6.36012446e-01 1.95669325e-01 3.89986612e-02]\n",
      "  [2.96631200e-02 1.67273811e-01 6.42736730e-01 1.60326339e-01]\n",
      "  [1.03418107e-24 4.32627993e-02 1.13010804e-01 8.43726397e-01]]]\n",
      "-2625.8850676193924\n"
     ]
    }
   ],
   "source": [
    "model = ModelB.create_initial_state(4, 8)\n",
    "model.map(anno.annotations)\n",
    "print(model.theta)\n",
    "print(model.log_likelihood(anno.annotations))"
   ]
  },
  {
   "cell_type": "markdown",
   "metadata": {},
   "source": [
    "Once we have model parameters estimated, we can now make inferences about the true label classes. We can calculate the posterior distribution over the true label classes."
   ]
  },
  {
   "cell_type": "code",
   "execution_count": 151,
   "metadata": {},
   "outputs": [
    {
     "name": "stdout",
     "output_type": "stream",
     "text": [
      "[[1.20741380e-42 1.00240780e-01 7.90821679e-01 1.08937540e-01]\n",
      " [9.92682453e-01 7.07056554e-03 2.46981317e-04 2.03944498e-49]\n",
      " [1.07420297e-03 5.51435353e-02 9.37476514e-01 6.30574822e-03]\n",
      " ...\n",
      " [8.15378491e-04 3.51193436e-02 9.59859130e-01 4.20614824e-03]\n",
      " [1.34481992e-44 2.14447325e-03 9.16166870e-01 8.16886569e-02]\n",
      " [2.14745550e-01 7.69057353e-01 1.61970966e-02 2.01807019e-26]]\n"
     ]
    }
   ],
   "source": [
    "posterior = model.infer_labels(anno.annotations)\n",
    "print(posterior)"
   ]
  },
  {
   "cell_type": "markdown",
   "metadata": {},
   "source": [
    "Let's turn the posterior of the first 100 samples into a heatmap."
   ]
  },
  {
   "cell_type": "code",
   "execution_count": 152,
   "metadata": {},
   "outputs": [],
   "source": [
    "votes = []\n",
    "for r in anno.annotations:\n",
    "    v = [0] * len(anno.labels)\n",
    "    votes.append(v)\n",
    "    for a in r:\n",
    "        if a > -1:\n",
    "            v[a] += 1\n",
    "votes_array = np.array(votes)"
   ]
  },
  {
   "cell_type": "code",
   "execution_count": 153,
   "metadata": {},
   "outputs": [
    {
     "data": {
      "image/png": "[encoded data removed]",
      "text/plain": [
       "<Figure size 1080x720 with 4 Axes>"
      ]
     },
     "metadata": {
      "needs_background": "light"
     },
     "output_type": "display_data"
    }
   ],
   "source": [
    "fig, (ax1, ax2) = plt.subplots(ncols=2, figsize = (15, 10), sharey=True)\n",
    "num_questions = 20\n",
    "\n",
    "seaborn.heatmap(votes_array[:num_questions], annot = True, ax=ax2)\n",
    "seaborn.heatmap(posterior[:num_questions], annot=True, ax =ax1)\n",
    "ax1.set_title(\"Model\")\n",
    "ax2.set_title(\"Votes\")\n",
    "plt.show()"
   ]
  },
  {
   "cell_type": "markdown",
   "metadata": {},
   "source": [
    "This differs markedly from taking annotator scores at face value (Add comparison of average values)"
   ]
  },
  {
   "cell_type": "code",
   "execution_count": 154,
   "metadata": {},
   "outputs": [],
   "source": [
    "samples = model.sample_posterior_over_accuracy(anno.annotations, 200, burn_in_samples=100, thin_samples=3)"
   ]
  },
  {
   "cell_type": "code",
   "execution_count": 155,
   "metadata": {},
   "outputs": [
    {
     "name": "stdout",
     "output_type": "stream",
     "text": [
      "[[[0.72906702 0.20173443 0.04978926 0.01940929]\n",
      "  [0.13871969 0.70215885 0.09081115 0.06831032]\n",
      "  [0.02759158 0.15830109 0.67439382 0.1397135 ]\n",
      "  [0.01172804 0.03558174 0.09739043 0.8552998 ]]\n",
      "\n",
      " [[0.67004737 0.20913448 0.09209342 0.02872474]\n",
      "  [0.13970027 0.69195596 0.11869612 0.04964765]\n",
      "  [0.03491564 0.16651957 0.6582786  0.1402862 ]\n",
      "  [0.01160237 0.06032236 0.13210694 0.79596833]]\n",
      "\n",
      " [[0.79529932 0.13922357 0.04672497 0.01875213]\n",
      "  [0.10082818 0.7540358  0.1051906  0.03994541]\n",
      "  [0.06504828 0.13763871 0.68618937 0.11112364]\n",
      "  [0.01636001 0.06016896 0.21802651 0.70544451]]\n",
      "\n",
      " [[0.65377442 0.2733015  0.05475663 0.01816744]\n",
      "  [0.10287824 0.7365654  0.11966088 0.04089548]\n",
      "  [0.02586835 0.15400905 0.66663409 0.15348852]\n",
      "  [0.00797459 0.03943301 0.23546496 0.71712743]]\n",
      "\n",
      " [[0.75745637 0.13936652 0.08476993 0.01840718]\n",
      "  [0.12474155 0.67923006 0.14856597 0.04746243]\n",
      "  [0.01866916 0.21049343 0.64133231 0.1295051 ]\n",
      "  [0.00803975 0.06740298 0.18673156 0.73782571]]\n",
      "\n",
      " [[0.73152048 0.20703709 0.04248164 0.01896079]\n",
      "  [0.11558687 0.68109172 0.15981026 0.04351115]\n",
      "  [0.03149439 0.18551921 0.64315681 0.13982959]\n",
      "  [0.01078026 0.08620134 0.16583833 0.73718007]]\n",
      "\n",
      " [[0.73264715 0.15235364 0.09195796 0.02304125]\n",
      "  [0.1140956  0.65501137 0.17909955 0.05179349]\n",
      "  [0.02320113 0.12673219 0.70906056 0.14100612]\n",
      "  [0.01036481 0.05218023 0.14173246 0.79572251]]\n",
      "\n",
      " [[0.78216376 0.14578535 0.05341035 0.01864054]\n",
      "  [0.14107743 0.60931848 0.1997876  0.04981649]\n",
      "  [0.033688   0.16985673 0.63369861 0.16275666]\n",
      "  [0.01080877 0.05628447 0.1264596  0.80644716]]]\n",
      "[[[0.06950796 0.06028892 0.03571848 0.01778453]\n",
      "  [0.04659895 0.06064288 0.03782363 0.03271249]\n",
      "  [0.01634371 0.03929857 0.04887307 0.03551812]\n",
      "  [0.0117544  0.02059681 0.03710331 0.04246937]]\n",
      "\n",
      " [[0.07479459 0.07016791 0.04674109 0.0257762 ]\n",
      "  [0.0404055  0.05135568 0.04225337 0.02619853]\n",
      "  [0.01783161 0.03625812 0.0472822  0.03315249]\n",
      "  [0.01151974 0.02731203 0.03883641 0.04775288]]\n",
      "\n",
      " [[0.0621146  0.05384022 0.03397822 0.01869007]\n",
      "  [0.04006639 0.05149032 0.03961716 0.02446383]\n",
      "  [0.02361034 0.03832861 0.04558483 0.03368027]\n",
      "  [0.01335185 0.02828065 0.04668349 0.05030805]]\n",
      "\n",
      " [[0.07297382 0.07041917 0.03278685 0.01766018]\n",
      "  [0.03379777 0.05466118 0.04291429 0.02241369]\n",
      "  [0.01593012 0.04090923 0.04968559 0.04274586]\n",
      "  [0.00655197 0.02122678 0.04704463 0.05086149]]\n",
      "\n",
      " [[0.06511252 0.05110217 0.0394214  0.01858417]\n",
      "  [0.03890185 0.06185246 0.0475786  0.02659458]\n",
      "  [0.01207865 0.04410914 0.04747566 0.03771011]\n",
      "  [0.00808599 0.02880746 0.04072527 0.04790306]]\n",
      "\n",
      " [[0.06722908 0.06335908 0.02655495 0.01995372]\n",
      "  [0.04220665 0.062463   0.049676   0.02857641]\n",
      "  [0.01719843 0.03970601 0.04728685 0.03565281]\n",
      "  [0.0102604  0.02910639 0.04726781 0.05352826]]\n",
      "\n",
      " [[0.06472621 0.05139994 0.04329083 0.02274038]\n",
      "  [0.04094431 0.06321697 0.05658843 0.03083634]\n",
      "  [0.01355962 0.03364424 0.04867696 0.03694909]\n",
      "  [0.01015247 0.02421566 0.04548337 0.05074547]]\n",
      "\n",
      " [[0.06759636 0.05692509 0.03951966 0.0178926 ]\n",
      "  [0.04158354 0.06466096 0.05575071 0.02732231]\n",
      "  [0.0157516  0.03961299 0.04554049 0.0366404 ]\n",
      "  [0.0098715  0.03034549 0.04280597 0.0509033 ]]]\n"
     ]
    }
   ],
   "source": [
    "print(samples[0].mean(axis=0))\n",
    "print(samples[0].std(axis=0))"
   ]
  },
  {
   "cell_type": "markdown",
   "metadata": {},
   "source": [
    "Let's try everything again with ModelBt"
   ]
  },
  {
   "cell_type": "code",
   "execution_count": 156,
   "metadata": {},
   "outputs": [
    {
     "name": "stdout",
     "output_type": "stream",
     "text": [
      "[0.89252346 0.61640407 0.66679035 0.67746457 0.88577377 0.82190796\n",
      " 0.78564255 0.73887046]\n",
      "-3095.1082522844454\n"
     ]
    }
   ],
   "source": [
    "# create a new instance of model B, with 4 label classes and 8 annotators.\n",
    "model = ModelBt.create_initial_state(4, 8)\n",
    "print(model.theta)\n",
    "print(model.log_likelihood(anno.annotations))"
   ]
  },
  {
   "cell_type": "code",
   "execution_count": 157,
   "metadata": {},
   "outputs": [
    {
     "name": "stdout",
     "output_type": "stream",
     "text": [
      "[0.79129379 0.74079476 0.76223777 0.72517009 0.71643063 0.71860805\n",
      " 0.77321913 0.71669287]\n",
      "-2811.9463067002407\n"
     ]
    }
   ],
   "source": [
    "model.map(anno.annotations)\n",
    "print(model.theta)\n",
    "print(model.log_likelihood(anno.annotations))"
   ]
  },
  {
   "cell_type": "code",
   "execution_count": 158,
   "metadata": {},
   "outputs": [
    {
     "name": "stdout",
     "output_type": "stream",
     "text": [
      "[[0.01110402 0.28929815 0.36501707 0.33458075]\n",
      " [0.99022622 0.00241829 0.00404785 0.00330764]\n",
      " [0.0024996  0.05506574 0.93460356 0.0078311 ]\n",
      " ...\n",
      " [0.00252897 0.04396254 0.94558537 0.00792312]\n",
      " [0.00249397 0.00571258 0.93249561 0.05929785]\n",
      " [0.03189626 0.93882262 0.01611389 0.01316724]]\n"
     ]
    }
   ],
   "source": [
    "posterior = model.infer_labels(anno.annotations)\n",
    "print(posterior)"
   ]
  },
  {
   "cell_type": "markdown",
   "metadata": {},
   "source": [
    "Let's visualize the posterior of the first 10 samples according to ModelBt."
   ]
  },
  {
   "cell_type": "code",
   "execution_count": 159,
   "metadata": {},
   "outputs": [
    {
     "data": {
      "image/png": "[encoded data removed]",
      "text/plain": [
       "<Figure size 432x288 with 2 Axes>"
      ]
     },
     "metadata": {
      "needs_background": "light"
     },
     "output_type": "display_data"
    }
   ],
   "source": [
    "ax = seaborn.heatmap(posterior[:10,])\n",
    "plt.show()"
   ]
  },
  {
   "cell_type": "markdown",
   "metadata": {},
   "source": [
    "The property of these scores is that they enable us to identify the most likely code assuming coders of unequal quality, which also allows us to break ties when we know coder identity. For some analyses, we may simply use the posterior themselves rather than the most probably code outcome."
   ]
  },
  {
   "cell_type": "markdown",
   "metadata": {},
   "source": [
    "# Generating Annotations"
   ]
  },
  {
   "cell_type": "markdown",
   "metadata": {},
   "source": [
    "Pyanno also allows one to generate artificial data from a model."
   ]
  },
  {
   "cell_type": "code",
   "execution_count": 160,
   "metadata": {},
   "outputs": [
    {
     "data": {
      "text/plain": [
       "array([[2, 2, 1],\n",
       "       [1, 1, 2],\n",
       "       [1, 1, 2],\n",
       "       [1, 1, 2],\n",
       "       [3, 3, 1],\n",
       "       [1, 2, 1],\n",
       "       [1, 0, 0],\n",
       "       [2, 2, 3],\n",
       "       [2, 2, 0],\n",
       "       [2, 2, 1],\n",
       "       [1, 1, 1],\n",
       "       [3, 3, 1],\n",
       "       [0, 0, 1],\n",
       "       [0, 0, 3],\n",
       "       [2, 2, 2],\n",
       "       [1, 1, 3],\n",
       "       [1, 1, 0],\n",
       "       [2, 2, 0],\n",
       "       [1, 2, 1],\n",
       "       [3, 2, 1]])"
      ]
     },
     "execution_count": 160,
     "metadata": {},
     "output_type": "execute_result"
    }
   ],
   "source": [
    "model = ModelBt.create_initial_state(4, 3, theta=[0.99,0.75,0.25])\n",
    "#randome generate annotations with 4 label classes and 3 annotators. The accuracy of the three annotators are 0.99, 0.75, and 0.25 respectively.\n",
    "model.generate_annotations(20)"
   ]
  },
  {
   "cell_type": "markdown",
   "metadata": {},
   "source": [
    "## Visualizing coder accuracy"
   ]
  },
  {
   "cell_type": "markdown",
   "metadata": {},
   "source": [
    "Pyanno provides a [graphical user interface](http://docs.enthought.com/uchicago-pyanno/user_guide.html) for making plots. However, it is not compatible with ipython notebooks. Nevertheless, nothing prevents us from making plots using matplotlib. Let's make a plot of the accuracy of each annotator inferred from ModelA."
   ]
  },
  {
   "cell_type": "code",
   "execution_count": 161,
   "metadata": {},
   "outputs": [],
   "source": [
    "model = ModelBt.create_initial_state(4, 8)\n",
    "model.mle(anno.annotations)\n",
    "samples = model.sample_posterior_over_accuracy(anno.annotations, 200, burn_in_samples=100, thin_samples=3)\n",
    "y =  samples.mean(axis=0)#.mean(axis = 1).mean(axis = 1)\n",
    "y_ci = samples.std(axis=0)#.mean(axis = 1).mean(axis = 1)"
   ]
  },
  {
   "cell_type": "code",
   "execution_count": 162,
   "metadata": {},
   "outputs": [
    {
     "data": {
      "image/png": "[encoded data removed]",
      "text/plain": [
       "<Figure size 432x288 with 1 Axes>"
      ]
     },
     "metadata": {
      "needs_background": "light"
     },
     "output_type": "display_data"
    }
   ],
   "source": [
    "plt.figure()\n",
    "plt.errorbar(range(8),y, yerr = y_ci)\n",
    "plt.show()"
   ]
  },
  {
   "cell_type": "markdown",
   "metadata": {},
   "source": [
    "# Example with articles that use the General Social Survey"
   ]
  },
  {
   "cell_type": "markdown",
   "metadata": {},
   "source": [
    "I performed a recent study in which the variables from thousands of articles were associated with those used in the General Social Survey, a widely used population sample, in order to interrogate how social science analyses are performed. Each article was reread and coded by a balanced set of three student coders using a 6 choose 3 design, such that all possible 3-coder-subsets (20) coded an equal number of articles. Coding was performed through a website that allowed students access to the digital article. To evaluate the validity of the student codes, we also recruited a sample of authors associated with 97 of our published articles to fill out the same online survey. \n",
    "\n",
    "Because not all coders coded items with equal accuracy, and because “don’t know” was an optional answer, leading to potential ties, we used a generative, probabilistic model to estimate the maximum a posteriori probability (MAP) prediction that an item’s code is true, which integrates over the estimated accuracy of coders, assuming only that the entire population of coders is slightly more often right than wrong. The model (“Model B”) is based on a simple underlying generation process that directly accounts for the probability that coded values are correct (Rzhetsky et al. 2009). For each coded value j, a set of parameters, denoted γj, represents the probability that each coded value is correct. For the ith coder (i = 1, 2, …, 6), we introduce a matrix of probabilities, denoted λ(i)x|y, that defines the probability that she assigns code x (e.g., Dependent variable) to a GSS variable with correct annotation y. For a perfect coder, the matrix λ(i)x|y would equal the identity matrix and her vote would count most toward the total. For a coder that always codes incorrectly—a “troll”—her matrix λ(i)x|y will have all its value off the diagonal and will only minimally influence the posterior. We co-authored the open source pyanno software that implements this model."
   ]
  },
  {
   "cell_type": "markdown",
   "metadata": {},
   "source": [
    "Getting the data for each content analysis survey regarding how GSS variables were used in a large population of social science articles."
   ]
  },
  {
   "cell_type": "code",
   "execution_count": 163,
   "metadata": {},
   "outputs": [],
   "source": [
    "#anno_vdep = AnnotationsContainer.from_file(missing_values=[-1], filename=\"GSSvariable_testSdependent.csv\")\n",
    "dev = np.loadtxt(fname=\"../data/dataforgssstudy/n7GSSvariable_testSdependent.csv\", dtype=int, delimiter=\",\")\n",
    "anno_dv = AnnotationsContainer.from_array(dev)\n",
    "\n",
    "ind = np.loadtxt(fname=\"../data/dataforgssstudy/n7GSSvariable_testSindependent.csv\", dtype=int, delimiter=\",\")\n",
    "anno_iv = AnnotationsContainer.from_array(ind)\n",
    "\n",
    "cent = np.loadtxt(fname=\"../data/dataforgssstudy/n7GSSvariable_testScentral.csv\", dtype=int, delimiter=\",\")\n",
    "anno_cv = AnnotationsContainer.from_array(cent)\n",
    "\n",
    "cont = np.loadtxt(fname=\"../data/dataforgssstudy/n7GSSvariable_testScontrol.csv\", dtype=int, delimiter=\",\")\n",
    "anno_ctv = AnnotationsContainer.from_array(cont)\n",
    "\n",
    "test = np.loadtxt(fname=\"../data/dataforgssstudy/testH.csv\", dtype=int, delimiter=\",\")\n",
    "anno_test = AnnotationsContainer.from_array(test)"
   ]
  },
  {
   "cell_type": "markdown",
   "metadata": {},
   "source": [
    "Let's examine the data structure."
   ]
  },
  {
   "cell_type": "code",
   "execution_count": 164,
   "metadata": {},
   "outputs": [
    {
     "data": {
      "text/plain": [
       "(21461, 6)"
      ]
     },
     "execution_count": 164,
     "metadata": {},
     "output_type": "execute_result"
    }
   ],
   "source": [
    "dev.shape"
   ]
  },
  {
   "cell_type": "code",
   "execution_count": 165,
   "metadata": {},
   "outputs": [
    {
     "data": {
      "text/plain": [
       "[0, 1]"
      ]
     },
     "execution_count": 165,
     "metadata": {},
     "output_type": "execute_result"
    }
   ],
   "source": [
    "anno_dv.labels"
   ]
  },
  {
   "cell_type": "code",
   "execution_count": 166,
   "metadata": {},
   "outputs": [
    {
     "data": {
      "text/plain": [
       "[-1]"
      ]
     },
     "execution_count": 166,
     "metadata": {},
     "output_type": "execute_result"
    }
   ],
   "source": [
    "anno_dv.missing_values"
   ]
  },
  {
   "cell_type": "code",
   "execution_count": 167,
   "metadata": {},
   "outputs": [
    {
     "data": {
      "text/plain": [
       "(21461, 6)"
      ]
     },
     "execution_count": 167,
     "metadata": {},
     "output_type": "execute_result"
    }
   ],
   "source": [
    "anno_dv.annotations.shape"
   ]
  },
  {
   "cell_type": "markdown",
   "metadata": {},
   "source": [
    "First, let's use Cohen's $\\kappa$ to measure agreement between coders..."
   ]
  },
  {
   "cell_type": "code",
   "execution_count": 168,
   "metadata": {},
   "outputs": [
    {
     "name": "stdout",
     "output_type": "stream",
     "text": [
      "[[1.         0.62426874 0.46682841 0.44599604 0.16569888 0.36657805]\n",
      " [0.62426874 1.         0.53480937 0.52673854 0.3306905  0.59513211]\n",
      " [0.46682841 0.53480937 1.         0.50580068 0.42393752 0.49833997]\n",
      " [0.44599604 0.52673854 0.50580068 1.         0.46517493 0.47023754]\n",
      " [0.16569888 0.3306905  0.42393752 0.46517493 1.         0.66190749]\n",
      " [0.36657805 0.59513211 0.49833997 0.47023754 0.66190749 1.        ]]\n"
     ]
    }
   ],
   "source": [
    "m = pairwise_matrix(cohens_kappa, anno_dv.annotations)\n",
    "print(m)"
   ]
  },
  {
   "cell_type": "markdown",
   "metadata": {},
   "source": [
    "Let's visualize that..."
   ]
  },
  {
   "cell_type": "code",
   "execution_count": 169,
   "metadata": {},
   "outputs": [
    {
     "data": {
      "image/png": "[encoded data removed]",
      "text/plain": [
       "<Figure size 432x288 with 2 Axes>"
      ]
     },
     "metadata": {
      "needs_background": "light"
     },
     "output_type": "display_data"
    }
   ],
   "source": [
    "ax = seaborn.heatmap(m)\n",
    "plt.show()"
   ]
  },
  {
   "cell_type": "code",
   "execution_count": 170,
   "metadata": {},
   "outputs": [
    {
     "data": {
      "text/plain": [
       "0.4721425844540702"
      ]
     },
     "execution_count": 170,
     "metadata": {},
     "output_type": "execute_result"
    }
   ],
   "source": [
    "pairwise_metric_average(cohens_kappa, anno_dv.annotations)"
   ]
  },
  {
   "cell_type": "markdown",
   "metadata": {},
   "source": [
    "Let's compute the statistics on each of the datasets and with Pearson's $\\rho$. "
   ]
  },
  {
   "cell_type": "code",
   "execution_count": 171,
   "metadata": {},
   "outputs": [],
   "source": [
    "datasets = [anno_dv.annotations, anno_iv.annotations, anno_cv.annotations, anno_ctv.annotations]\n",
    "ck = [pairwise_matrix(cohens_kappa, anno) for anno in datasets]\n",
    "pr = [pairwise_matrix(pearsons_rho, anno) for anno in datasets]\n",
    "titles = ['DV', 'IV', 'Central Variable', \"Control Variable\"]"
   ]
  },
  {
   "cell_type": "code",
   "execution_count": 172,
   "metadata": {},
   "outputs": [
    {
     "data": {
      "image/png": "[encoded data removed]",
      "text/plain": [
       "<Figure size 1296x504 with 16 Axes>"
      ]
     },
     "metadata": {
      "needs_background": "light"
     },
     "output_type": "display_data"
    }
   ],
   "source": [
    "fig, axs = plt.subplots(2,4)\n",
    "fig.set_size_inches(18, 7)\n",
    "for k, ax, title in zip(ck,axs[0], titles):\n",
    "    seaborn.heatmap(k, ax = ax)\n",
    "    ax.set_title(title)\n",
    "    ax.set_xticks(())\n",
    "    ax.set_yticks(())\n",
    "for r, ax in zip(pr,axs[1]):\n",
    "    seaborn.heatmap(r, ax = ax)\n",
    "    ax.set_xticks(())\n",
    "    ax.set_yticks(())\n",
    "plt.show()"
   ]
  },
  {
   "cell_type": "markdown",
   "metadata": {},
   "source": [
    "Now we will compare the student coders."
   ]
  },
  {
   "cell_type": "code",
   "execution_count": 173,
   "metadata": {},
   "outputs": [],
   "source": [
    "nondiag = (np.eye(6)-np.ones(6))*-1.0"
   ]
  },
  {
   "cell_type": "code",
   "execution_count": 174,
   "metadata": {},
   "outputs": [
    {
     "name": "stdout",
     "output_type": "stream",
     "text": [
      "0.47214258445407015\n",
      "0.5142407278222298\n",
      "0.4529627823703711\n",
      "0.4759652686686369\n",
      "0.27082376869768193\n",
      "0.3151404982836264\n",
      "0.32833477875850064\n",
      "0.3945852779196376\n"
     ]
    }
   ],
   "source": [
    "xdevck = pairwise_matrix(cohens_kappa, anno_dv.annotations)\n",
    "xdevpr = pairwise_matrix(pearsons_rho, anno_dv.annotations)\n",
    "\n",
    "xindck = pairwise_matrix(cohens_kappa, anno_iv.annotations)\n",
    "xindpr = pairwise_matrix(pearsons_rho, anno_iv.annotations)\n",
    "\n",
    "xcenck = pairwise_matrix(cohens_kappa, anno_cv.annotations)\n",
    "xcenpr = pairwise_matrix(pearsons_rho, anno_cv.annotations)\n",
    "\n",
    "xconck = pairwise_matrix(cohens_kappa, anno_ctv.annotations)\n",
    "xconpr = pairwise_matrix(pearsons_rho, anno_ctv.annotations)\n",
    "\n",
    "print(np.average(xdevck, weights=nondiag))\n",
    "print(np.average(xdevpr, weights=nondiag))\n",
    "print(np.average(xindck, weights=nondiag))\n",
    "print(np.average(xindpr, weights=nondiag))\n",
    "print(np.average(xcenck, weights=nondiag))\n",
    "print(np.average(xcenpr, weights=nondiag))\n",
    "print(np.average(xconck, weights=nondiag))\n",
    "print(np.average(xconpr, weights=nondiag))"
   ]
  },
  {
   "cell_type": "markdown",
   "metadata": {},
   "source": [
    "Now we are going to bring in \"gold standard\" data. In this case, this is where we asked authors of the articles to code their own article's variables and compare with our student coders."
   ]
  },
  {
   "cell_type": "code",
   "execution_count": 175,
   "metadata": {},
   "outputs": [],
   "source": [
    "mergedata = np.loadtxt(fname=\"../data/dataforgssstudy/gss_mergedataC.txt\", dtype=int, delimiter=\"\\t\")"
   ]
  },
  {
   "cell_type": "code",
   "execution_count": 176,
   "metadata": {},
   "outputs": [],
   "source": [
    "anno_merge_dep = AnnotationsContainer.from_array(mergedata[:,0:2])\n",
    "anno_merge_ind = AnnotationsContainer.from_array(mergedata[:,2:4])\n",
    "anno_merge_cen = AnnotationsContainer.from_array(mergedata[:,4:6])\n",
    "anno_merge_con = AnnotationsContainer.from_array(mergedata[:,6:8])\n",
    "anno_merge_dkn = AnnotationsContainer.from_array(mergedata[:,8:10])"
   ]
  },
  {
   "cell_type": "code",
   "execution_count": 177,
   "metadata": {},
   "outputs": [
    {
     "name": "stdout",
     "output_type": "stream",
     "text": [
      "Dependent variable -- kappa & rho\n",
      "0.3744311057948666\n",
      "0.3856343720362056\n",
      "\n",
      "Independent variable\n",
      "0.5430690164641346\n",
      "0.5529974941771554\n",
      "\n",
      "Central variable\n",
      "-0.064017189548477\n",
      "-0.08887644319259189\n",
      "\n",
      "Control variable\n",
      "0.2815172499181942\n",
      "0.2823923757461979\n"
     ]
    }
   ],
   "source": [
    "print(\"\"\"Dependent variable -- kappa & rho\"\"\")\n",
    "print(cohens_kappa(anno_merge_dep.annotations[:,0], anno_merge_dep.annotations[:,1]))\n",
    "print(pearsons_rho(anno_merge_dep.annotations[:,0], anno_merge_dep.annotations[:,1]))\n",
    "\n",
    "print(\"\\nIndependent variable\")\n",
    "print(cohens_kappa(anno_merge_ind.annotations[:,0], anno_merge_ind.annotations[:,1]))\n",
    "print(pearsons_rho(anno_merge_ind.annotations[:,0], anno_merge_ind.annotations[:,1]))\n",
    "\n",
    "print(\"\\nCentral variable\")\n",
    "print(cohens_kappa(anno_merge_cen.annotations[:,0], anno_merge_cen.annotations[:,1]))\n",
    "print(pearsons_rho(anno_merge_cen.annotations[:,0], anno_merge_cen.annotations[:,1]))\n",
    "\n",
    "print(\"\\nControl variable\")\n",
    "print(cohens_kappa(anno_merge_con.annotations[:,0], anno_merge_con.annotations[:,1]))\n",
    "print(pearsons_rho(anno_merge_con.annotations[:,0], anno_merge_con.annotations[:,1]))"
   ]
  },
  {
   "cell_type": "markdown",
   "metadata": {},
   "source": [
    "Whoah! Student coders and authors viewed articles that were \"central\" or critical to the published argument as fundamentally different (exhibiting negative agreement and correlation). Why? Likely because that researchers recalled what they had _intended_ as their central variables before analysis, but those that _worked out_ became central in the text."
   ]
  },
  {
   "cell_type": "markdown",
   "metadata": {},
   "source": [
    "Now for the assessment of the relative values of authors, then student coders."
   ]
  },
  {
   "cell_type": "code",
   "execution_count": 178,
   "metadata": {},
   "outputs": [
    {
     "name": "stdout",
     "output_type": "stream",
     "text": [
      "Dependent\n",
      "0.4763912310286678\n",
      "0.35834738617200673\n",
      "\n",
      "Independent\n",
      "0.23777403035413153\n",
      "0.3136593591905565\n",
      "\n",
      "Central\n",
      "0.35328836424957843\n",
      "0.7512647554806071\n",
      "\n",
      "Control\n",
      "0.081787521079258\n",
      "0.09443507588532883\n"
     ]
    }
   ],
   "source": [
    "print(\"Dependent\")\n",
    "print(np.average(anno_merge_dep.annotations[:,0]))\n",
    "print(np.average(anno_merge_dep.annotations[:,1]))\n",
    "\n",
    "print(\"\\nIndependent\")\n",
    "print(np.average(anno_merge_ind.annotations[:,0]))\n",
    "print(np.average(anno_merge_ind.annotations[:,1]))\n",
    "\n",
    "print(\"\\nCentral\")\n",
    "print(np.average(anno_merge_cen.annotations[:,0]))\n",
    "print(np.average(anno_merge_cen.annotations[:,1]))\n",
    "\n",
    "print(\"\\nControl\")\n",
    "print(np.average(anno_merge_con.annotations[:,0]))\n",
    "print(np.average(anno_merge_con.annotations[:,1]))"
   ]
  },
  {
   "cell_type": "markdown",
   "metadata": {},
   "source": [
    "## Now we are going to use models to predict the correct annotations\n",
    "\n",
    "Recall that Model A is built for 8 coders, but we have 6. We're going to *hack* it by adding two blank columns."
   ]
  },
  {
   "cell_type": "code",
   "execution_count": 179,
   "metadata": {},
   "outputs": [
    {
     "data": {
      "text/plain": [
       "(21461, 6)"
      ]
     },
     "execution_count": 179,
     "metadata": {},
     "output_type": "execute_result"
    }
   ],
   "source": [
    "dev.shape"
   ]
  },
  {
   "cell_type": "code",
   "execution_count": 180,
   "metadata": {},
   "outputs": [
    {
     "data": {
      "text/plain": [
       "array([[ 0, -1, -1, ...,  1, -1, -1],\n",
       "       [ 0, -1, -1, ...,  0, -1, -1],\n",
       "       [ 0, -1, -1, ...,  0, -1, -1],\n",
       "       ...,\n",
       "       [-1, -1, -1, ..., -1, -1, -1],\n",
       "       [-1, -1, -1, ..., -1, -1, -1],\n",
       "       [-1, -1, -1, ..., -1, -1, -1]])"
      ]
     },
     "execution_count": 180,
     "metadata": {},
     "output_type": "execute_result"
    }
   ],
   "source": [
    "negs2 = np.ones((21461, 2), dtype=np.int)*(-1)\n",
    "devA = np.concatenate((dev, negs2), axis=1)\n",
    "devA"
   ]
  },
  {
   "cell_type": "code",
   "execution_count": 181,
   "metadata": {},
   "outputs": [
    {
     "data": {
      "text/plain": [
       "array([0.74504311, 0.85780048, 0.86055212, 0.88337036, 0.84721012,\n",
       "       0.6635043 , 0.89833862, 0.8823925 ])"
      ]
     },
     "execution_count": 181,
     "metadata": {},
     "output_type": "execute_result"
    }
   ],
   "source": [
    "anno_dvA = AnnotationsContainer.from_array(devA)\n",
    "model_devA = ModelA.create_initial_state(2)\n",
    "model_devA.theta"
   ]
  },
  {
   "cell_type": "code",
   "execution_count": 182,
   "metadata": {},
   "outputs": [
    {
     "name": "stdout",
     "output_type": "stream",
     "text": [
      "[0.01378947 0.98621053]\n",
      "-64194.3993818278\n"
     ]
    }
   ],
   "source": [
    "model_dvB = ModelB.create_initial_state(2, 6)\n",
    "print(model_dvB.pi)\n",
    "print(model_dvB.log_likelihood(anno_dv.annotations))"
   ]
  },
  {
   "cell_type": "code",
   "execution_count": 183,
   "metadata": {},
   "outputs": [
    {
     "name": "stdout",
     "output_type": "stream",
     "text": [
      "[0.69455487 0.30544513]\n",
      "-25462.473635032595\n"
     ]
    }
   ],
   "source": [
    "model_dvB.map(anno_dv.annotations)\n",
    "print(model_dvB.pi)\n",
    "print(model_dvB.log_likelihood(anno_dv.annotations))"
   ]
  },
  {
   "cell_type": "code",
   "execution_count": 184,
   "metadata": {},
   "outputs": [
    {
     "name": "stdout",
     "output_type": "stream",
     "text": [
      "[[0.01110402 0.28929815 0.36501707 0.33458075]\n",
      " [0.99022622 0.00241829 0.00404785 0.00330764]\n",
      " [0.0024996  0.05506574 0.93460356 0.0078311 ]\n",
      " ...\n",
      " [0.00252897 0.04396254 0.94558537 0.00792312]\n",
      " [0.00249397 0.00571258 0.93249561 0.05929785]\n",
      " [0.03189626 0.93882262 0.01611389 0.01316724]]\n"
     ]
    }
   ],
   "source": [
    "# compute the posterior distribution over true annotations\n",
    "posterior_dvB = model_dvB.infer_labels(anno_dv.annotations)\n",
    "# each row show the probability of each label class for the\n",
    "# corresponding item\n",
    "print(posterior)"
   ]
  },
  {
   "cell_type": "code",
   "execution_count": 185,
   "metadata": {},
   "outputs": [],
   "source": [
    "samples_dvB = model_dvB.sample_posterior_over_accuracy(anno_dv.annotations, 200, burn_in_samples=100, thin_samples=3)"
   ]
  },
  {
   "cell_type": "code",
   "execution_count": 186,
   "metadata": {},
   "outputs": [
    {
     "name": "stdout",
     "output_type": "stream",
     "text": [
      "Mean\n",
      "[[[0.97918049 0.02081951]\n",
      "  [0.5153832  0.4846168 ]]\n",
      "\n",
      " [[0.96958874 0.03041126]\n",
      "  [0.25871187 0.74128813]]\n",
      "\n",
      " [[0.98274365 0.01725635]\n",
      "  [0.34860919 0.65139081]]\n",
      "\n",
      " [[0.93460907 0.06539093]\n",
      "  [0.24265352 0.75734648]]\n",
      "\n",
      " [[0.6930309  0.3069691 ]\n",
      "  [0.04579915 0.95420085]]\n",
      "\n",
      " [[0.86418977 0.13581023]\n",
      "  [0.06833154 0.93166846]]]\n",
      "\n",
      "STD\n",
      "[[[0.00235905 0.00235905]\n",
      "  [0.01318013 0.01318013]]\n",
      "\n",
      " [[0.00325135 0.00325135]\n",
      "  [0.01367632 0.01367632]]\n",
      "\n",
      " [[0.00302014 0.00302014]\n",
      "  [0.01341012 0.01341012]]\n",
      "\n",
      " [[0.00443445 0.00443445]\n",
      "  [0.01296852 0.01296852]]\n",
      "\n",
      " [[0.00741877 0.00741877]\n",
      "  [0.0056834  0.0056834 ]]\n",
      "\n",
      " [[0.00706883 0.00706883]\n",
      "  [0.00709192 0.00709192]]]\n"
     ]
    }
   ],
   "source": [
    "# we can then compute a credible interval for the parameters:\n",
    "ci_dv_mean = samples_dvB[0].mean(axis=0)\n",
    "print(\"Mean\")\n",
    "print(ci_dv_mean)\n",
    "\n",
    "ci_dv_stdev = samples_dvB[0].std(axis=0)\n",
    "print(\"\\nSTD\")\n",
    "print(ci_dv_stdev)\n"
   ]
  },
  {
   "cell_type": "markdown",
   "metadata": {},
   "source": [
    "We will use Model B estimates for other variable assessments."
   ]
  },
  {
   "cell_type": "code",
   "execution_count": 187,
   "metadata": {},
   "outputs": [
    {
     "name": "stdout",
     "output_type": "stream",
     "text": [
      "-185.9675947423238\n",
      "[9.20933481e-20 1.00000000e+00]\n",
      "-48.9756711393957\n",
      "(48, 6)\n",
      "(48, 2)\n",
      "[[[0.78843191 0.21156809]\n",
      "  [0.12646602 0.87353398]]\n",
      "\n",
      " [[0.80074676 0.19925324]\n",
      "  [0.08862765 0.91137235]]\n",
      "\n",
      " [[0.80472787 0.19527213]\n",
      "  [0.49612499 0.50387501]]\n",
      "\n",
      " [[0.80068843 0.19931157]\n",
      "  [0.07048475 0.92951525]]\n",
      "\n",
      " [[0.80898979 0.19101021]\n",
      "  [0.36293878 0.63706122]]\n",
      "\n",
      " [[0.79884091 0.20115909]\n",
      "  [0.12472841 0.87527159]]]\n"
     ]
    }
   ],
   "source": [
    "#test\n",
    "model_testB = ModelB.create_initial_state(2, 6)\n",
    "print(model_testB.log_likelihood(anno_test.annotations))\n",
    "model_testB.map(anno_test.annotations)\n",
    "print(model_testB.pi)\n",
    "print(model_testB.log_likelihood(anno_test.annotations))\n",
    "print(anno_test.annotations.shape)\n",
    "posterior_testB = model_testB.infer_labels(anno_test.annotations)\n",
    "print(posterior_testB.shape)\n",
    "samples_testB = model_testB.sample_posterior_over_accuracy(anno_test.annotations, 200, burn_in_samples=100, thin_samples=3)\n",
    "ci_test_mean = samples_testB[0].mean(axis=0)\n",
    "print(ci_test_mean)"
   ]
  },
  {
   "cell_type": "code",
   "execution_count": 188,
   "metadata": {},
   "outputs": [
    {
     "name": "stdout",
     "output_type": "stream",
     "text": [
      "-32723.142663384195\n",
      "[0.61093546 0.38906454]\n",
      "-28620.66523246587\n",
      "(21461, 6)\n",
      "(21461, 2)\n",
      "[[[0.97064914 0.02935086]\n",
      "  [0.34615526 0.65384474]]\n",
      "\n",
      " [[0.93663669 0.06336331]\n",
      "  [0.05182871 0.94817129]]\n",
      "\n",
      " [[0.6575908  0.3424092 ]\n",
      "  [0.21034641 0.78965359]]\n",
      "\n",
      " [[0.53554133 0.46445867]\n",
      "  [0.03063434 0.96936566]]\n",
      "\n",
      " [[0.87441415 0.12558585]\n",
      "  [0.09669269 0.90330731]]\n",
      "\n",
      " [[0.89013799 0.10986201]\n",
      "  [0.08844193 0.91155807]]]\n",
      "-37095.10656194696\n",
      "[0.23988844 0.76011156]\n",
      "-25034.918555765576\n",
      "(21461, 6)\n",
      "(21461, 2)\n",
      "[[[0.89858868 0.10141132]\n",
      "  [0.07070214 0.92929786]]\n",
      "\n",
      " [[0.78898232 0.21101768]\n",
      "  [0.05914162 0.94085838]]\n",
      "\n",
      " [[0.99196519 0.00803481]\n",
      "  [0.84258469 0.15741531]]\n",
      "\n",
      " [[0.9527208  0.0472792 ]\n",
      "  [0.45729797 0.54270203]]\n",
      "\n",
      " [[0.67917326 0.32082674]\n",
      "  [0.05772539 0.94227461]]\n",
      "\n",
      " [[0.59476118 0.40523882]\n",
      "  [0.09651282 0.90348718]]]\n",
      "-42779.99154703513\n",
      "[0.83068326 0.16931674]\n",
      "-19415.702035242168\n",
      "(21461, 6)\n",
      "(21461, 2)\n",
      "[[[0.97141004 0.02858996]\n",
      "  [0.34735962 0.65264038]]\n",
      "\n",
      " [[0.93757521 0.06242479]\n",
      "  [0.05548974 0.94451026]]\n",
      "\n",
      " [[0.65780364 0.34219636]\n",
      "  [0.20947296 0.79052704]]\n",
      "\n",
      " [[0.53561583 0.46438417]\n",
      "  [0.03104242 0.96895758]]\n",
      "\n",
      " [[0.87662375 0.12337625]\n",
      "  [0.09831149 0.90168851]]\n",
      "\n",
      " [[0.89120735 0.10879265]\n",
      "  [0.09043881 0.90956119]]]\n"
     ]
    }
   ],
   "source": [
    "#indepedent variables\n",
    "model_ivB = ModelB.create_initial_state(2, 6)\n",
    "print(model_ivB.log_likelihood(anno_iv.annotations))\n",
    "model_ivB.map(anno_iv.annotations)\n",
    "print(model_ivB.pi)\n",
    "print(model_ivB.log_likelihood(anno_iv.annotations))\n",
    "print(anno_iv.annotations.shape)\n",
    "posterior_ivB = model_ivB.infer_labels(anno_iv.annotations)\n",
    "print(posterior_ivB.shape)\n",
    "samples_ivB = model_ivB.sample_posterior_over_accuracy(anno_iv.annotations, 200, burn_in_samples=100, thin_samples=3)\n",
    "ci_iv_mean = samples_ivB[0].mean(axis=0)\n",
    "print(ci_iv_mean)\n",
    "\n",
    "#central variables\n",
    "model_cvB = ModelB.create_initial_state(2, 6)\n",
    "print(model_cvB.log_likelihood(anno_cv.annotations))\n",
    "model_cvB.map(anno_cv.annotations)\n",
    "print(model_cvB.pi)\n",
    "print(model_cvB.log_likelihood(anno_cv.annotations))\n",
    "print(anno_cv.annotations.shape)\n",
    "posterior_cvB = model_cvB.infer_labels(anno_cv.annotations)\n",
    "print(posterior_cvB.shape)\n",
    "samples_cvB = model_cvB.sample_posterior_over_accuracy(anno_cv.annotations, 200, burn_in_samples=100, thin_samples=3)\n",
    "ci_cv_mean = samples_cvB[0].mean(axis=0)\n",
    "print(ci_cv_mean)\n",
    "\n",
    "#control variables\n",
    "model_ctvB = ModelB.create_initial_state(2, 6)\n",
    "print(model_ctvB.log_likelihood(anno_ctv.annotations))\n",
    "model_ctvB.map(anno_ctv.annotations)\n",
    "print(model_ctvB.pi)\n",
    "print(model_ctvB.log_likelihood(anno_ctv.annotations))\n",
    "print(anno_ctv.annotations.shape)\n",
    "posterior_ctvB = model_ctvB.infer_labels(anno_ctv.annotations)\n",
    "print(posterior_ctvB.shape)\n",
    "samples_ctvB = model_ctvB.sample_posterior_over_accuracy(anno_iv.annotations, 200, burn_in_samples=100, thin_samples=3)\n",
    "ci_ctv_mean = samples_ctvB[0].mean(axis=0)\n",
    "print(ci_ctv_mean)"
   ]
  },
  {
   "cell_type": "markdown",
   "metadata": {},
   "source": [
    "Now we will package up the predicted data into a format we can use for other, subsequent analysis:"
   ]
  },
  {
   "cell_type": "code",
   "execution_count": 189,
   "metadata": {},
   "outputs": [
    {
     "name": "stdout",
     "output_type": "stream",
     "text": [
      "(21461, 2)\n",
      "(21461, 2)\n",
      "(21461, 2)\n",
      "(21461, 2)\n"
     ]
    }
   ],
   "source": [
    "print(posterior_dvB.shape)\n",
    "print(posterior_ivB.shape)\n",
    "print(posterior_cvB.shape)\n",
    "print(posterior_ctvB.shape)"
   ]
  },
  {
   "cell_type": "code",
   "execution_count": 190,
   "metadata": {},
   "outputs": [],
   "source": [
    "predicted_annotations = np.concatenate((posterior_dvB, posterior_ivB, posterior_cvB, posterior_ctvB), axis=1) # posterior_dvBt, posterior_ivBt, posterior_cvBt, posterior_ctvBt), axis=1)"
   ]
  },
  {
   "cell_type": "code",
   "execution_count": 191,
   "metadata": {},
   "outputs": [
    {
     "data": {
      "text/plain": [
       "(21461, 8)"
      ]
     },
     "execution_count": 191,
     "metadata": {},
     "output_type": "execute_result"
    }
   ],
   "source": [
    "predicted_annotations.shape"
   ]
  },
  {
   "cell_type": "markdown",
   "metadata": {},
   "source": [
    "These annotations allowed us to uncover the degree to which social scientists alter their models to achieve a better fit...undocumented data mining. The answer was that social scientists did mine their data, but that it likely improved their analysis because change in the social world was the result of greater distortion than undocumented data mining."
   ]
  },
  {
   "cell_type": "markdown",
   "metadata": {},
   "source": [
    "## Another example analysis looks at a different data set of Hotel Reviews by a variety of patrons."
   ]
  },
  {
   "cell_type": "code",
   "execution_count": 192,
   "metadata": {},
   "outputs": [
    {
     "data": {
      "text/html": [
       "<div>\n",
       "<style scoped>\n",
       "    .dataframe tbody tr th:only-of-type {\n",
       "        vertical-align: middle;\n",
       "    }\n",
       "\n",
       "    .dataframe tbody tr th {\n",
       "        vertical-align: top;\n",
       "    }\n",
       "\n",
       "    .dataframe thead th {\n",
       "        text-align: right;\n",
       "    }\n",
       "</style>\n",
       "<table border=\"1\" class=\"dataframe\">\n",
       "  <thead>\n",
       "    <tr style=\"text-align: right;\">\n",
       "      <th></th>\n",
       "      <th>Karen</th>\n",
       "      <th>Scott</th>\n",
       "      <th>Jessica</th>\n",
       "      <th>write a review</th>\n",
       "      <th>A verified traveler</th>\n",
       "      <th>Kevin</th>\n",
       "      <th>William</th>\n",
       "      <th>R</th>\n",
       "      <th>S</th>\n",
       "      <th>Christopher</th>\n",
       "      <th>...</th>\n",
       "      <th>Thomas</th>\n",
       "      <th>Susan</th>\n",
       "      <th>A Traveler</th>\n",
       "      <th>M</th>\n",
       "      <th>Not Provided</th>\n",
       "      <th>B</th>\n",
       "      <th>Laura</th>\n",
       "      <th>xxxxxxxxxxxxxx</th>\n",
       "      <th>Michael</th>\n",
       "      <th>Joseph</th>\n",
       "    </tr>\n",
       "  </thead>\n",
       "  <tbody>\n",
       "    <tr>\n",
       "      <th>1785 Inn</th>\n",
       "      <td>NaN</td>\n",
       "      <td>NaN</td>\n",
       "      <td>NaN</td>\n",
       "      <td>NaN</td>\n",
       "      <td>NaN</td>\n",
       "      <td>NaN</td>\n",
       "      <td>NaN</td>\n",
       "      <td>NaN</td>\n",
       "      <td>NaN</td>\n",
       "      <td>NaN</td>\n",
       "      <td>...</td>\n",
       "      <td>NaN</td>\n",
       "      <td>NaN</td>\n",
       "      <td>NaN</td>\n",
       "      <td>NaN</td>\n",
       "      <td>NaN</td>\n",
       "      <td>NaN</td>\n",
       "      <td>NaN</td>\n",
       "      <td>NaN</td>\n",
       "      <td>NaN</td>\n",
       "      <td>NaN</td>\n",
       "    </tr>\n",
       "    <tr>\n",
       "      <th>1900 House</th>\n",
       "      <td>NaN</td>\n",
       "      <td>NaN</td>\n",
       "      <td>NaN</td>\n",
       "      <td>NaN</td>\n",
       "      <td>NaN</td>\n",
       "      <td>NaN</td>\n",
       "      <td>NaN</td>\n",
       "      <td>NaN</td>\n",
       "      <td>NaN</td>\n",
       "      <td>NaN</td>\n",
       "      <td>...</td>\n",
       "      <td>NaN</td>\n",
       "      <td>NaN</td>\n",
       "      <td>NaN</td>\n",
       "      <td>NaN</td>\n",
       "      <td>NaN</td>\n",
       "      <td>NaN</td>\n",
       "      <td>NaN</td>\n",
       "      <td>NaN</td>\n",
       "      <td>NaN</td>\n",
       "      <td>NaN</td>\n",
       "    </tr>\n",
       "    <tr>\n",
       "      <th>A Bed &amp; Breakfast In Cambridge</th>\n",
       "      <td>NaN</td>\n",
       "      <td>NaN</td>\n",
       "      <td>NaN</td>\n",
       "      <td>NaN</td>\n",
       "      <td>NaN</td>\n",
       "      <td>NaN</td>\n",
       "      <td>NaN</td>\n",
       "      <td>NaN</td>\n",
       "      <td>NaN</td>\n",
       "      <td>NaN</td>\n",
       "      <td>...</td>\n",
       "      <td>NaN</td>\n",
       "      <td>NaN</td>\n",
       "      <td>3.0</td>\n",
       "      <td>NaN</td>\n",
       "      <td>NaN</td>\n",
       "      <td>NaN</td>\n",
       "      <td>NaN</td>\n",
       "      <td>NaN</td>\n",
       "      <td>NaN</td>\n",
       "      <td>NaN</td>\n",
       "    </tr>\n",
       "    <tr>\n",
       "      <th>A Swallow's Nest Motel</th>\n",
       "      <td>NaN</td>\n",
       "      <td>NaN</td>\n",
       "      <td>NaN</td>\n",
       "      <td>NaN</td>\n",
       "      <td>NaN</td>\n",
       "      <td>NaN</td>\n",
       "      <td>NaN</td>\n",
       "      <td>NaN</td>\n",
       "      <td>NaN</td>\n",
       "      <td>NaN</td>\n",
       "      <td>...</td>\n",
       "      <td>NaN</td>\n",
       "      <td>NaN</td>\n",
       "      <td>NaN</td>\n",
       "      <td>NaN</td>\n",
       "      <td>NaN</td>\n",
       "      <td>NaN</td>\n",
       "      <td>NaN</td>\n",
       "      <td>NaN</td>\n",
       "      <td>NaN</td>\n",
       "      <td>NaN</td>\n",
       "    </tr>\n",
       "    <tr>\n",
       "      <th>Abbeville Inn</th>\n",
       "      <td>NaN</td>\n",
       "      <td>NaN</td>\n",
       "      <td>NaN</td>\n",
       "      <td>NaN</td>\n",
       "      <td>NaN</td>\n",
       "      <td>NaN</td>\n",
       "      <td>NaN</td>\n",
       "      <td>NaN</td>\n",
       "      <td>NaN</td>\n",
       "      <td>NaN</td>\n",
       "      <td>...</td>\n",
       "      <td>NaN</td>\n",
       "      <td>NaN</td>\n",
       "      <td>NaN</td>\n",
       "      <td>NaN</td>\n",
       "      <td>NaN</td>\n",
       "      <td>NaN</td>\n",
       "      <td>NaN</td>\n",
       "      <td>NaN</td>\n",
       "      <td>NaN</td>\n",
       "      <td>NaN</td>\n",
       "    </tr>\n",
       "  </tbody>\n",
       "</table>\n",
       "<p>5 rows × 49 columns</p>\n",
       "</div>"
      ],
      "text/plain": [
       "                                Karen  Scott  Jessica  write a review  \\\n",
       "1785 Inn                          NaN    NaN      NaN             NaN   \n",
       "1900 House                        NaN    NaN      NaN             NaN   \n",
       "A Bed & Breakfast In Cambridge    NaN    NaN      NaN             NaN   \n",
       "A Swallow's Nest Motel            NaN    NaN      NaN             NaN   \n",
       "Abbeville Inn                     NaN    NaN      NaN             NaN   \n",
       "\n",
       "                                A verified traveler  Kevin  William   R   S  \\\n",
       "1785 Inn                                        NaN    NaN      NaN NaN NaN   \n",
       "1900 House                                      NaN    NaN      NaN NaN NaN   \n",
       "A Bed & Breakfast In Cambridge                  NaN    NaN      NaN NaN NaN   \n",
       "A Swallow's Nest Motel                          NaN    NaN      NaN NaN NaN   \n",
       "Abbeville Inn                                   NaN    NaN      NaN NaN NaN   \n",
       "\n",
       "                                Christopher  ...  Thomas  Susan  A Traveler  \\\n",
       "1785 Inn                                NaN  ...     NaN    NaN         NaN   \n",
       "1900 House                              NaN  ...     NaN    NaN         NaN   \n",
       "A Bed & Breakfast In Cambridge          NaN  ...     NaN    NaN         3.0   \n",
       "A Swallow's Nest Motel                  NaN  ...     NaN    NaN         NaN   \n",
       "Abbeville Inn                           NaN  ...     NaN    NaN         NaN   \n",
       "\n",
       "                                 M  Not Provided   B  Laura  xxxxxxxxxxxxxx  \\\n",
       "1785 Inn                       NaN           NaN NaN    NaN             NaN   \n",
       "1900 House                     NaN           NaN NaN    NaN             NaN   \n",
       "A Bed & Breakfast In Cambridge NaN           NaN NaN    NaN             NaN   \n",
       "A Swallow's Nest Motel         NaN           NaN NaN    NaN             NaN   \n",
       "Abbeville Inn                  NaN           NaN NaN    NaN             NaN   \n",
       "\n",
       "                                Michael  Joseph  \n",
       "1785 Inn                            NaN     NaN  \n",
       "1900 House                          NaN     NaN  \n",
       "A Bed & Breakfast In Cambridge      NaN     NaN  \n",
       "A Swallow's Nest Motel              NaN     NaN  \n",
       "Abbeville Inn                       NaN     NaN  \n",
       "\n",
       "[5 rows x 49 columns]"
      ]
     },
     "execution_count": 192,
     "metadata": {},
     "output_type": "execute_result"
    }
   ],
   "source": [
    "df_hotels = pandas.read_csv('../data/hot_Reviews.csv', index_col=0)\n",
    "df_hotels[:5]"
   ]
  },
  {
   "cell_type": "markdown",
   "metadata": {},
   "source": [
    "Here a rank of 0 is a missing value and to simplify things more we will convert from a 1-10 scale to a 1-5 scale, with 0 as missing"
   ]
  },
  {
   "cell_type": "code",
   "execution_count": 193,
   "metadata": {},
   "outputs": [],
   "source": [
    "df_hotels = df_hotels.apply(lambda x: x // 2) #integer divide by 2 rounds all values"
   ]
  },
  {
   "cell_type": "markdown",
   "metadata": {},
   "source": [
    "And we can visualize all the reviews as a heatmap with the missing values greyed out"
   ]
  },
  {
   "cell_type": "code",
   "execution_count": 194,
   "metadata": {},
   "outputs": [
    {
     "data": {
      "image/png": "[encoded data removed]",
      "text/plain": [
       "<Figure size 1440x1440 with 2 Axes>"
      ]
     },
     "metadata": {
      "needs_background": "light"
     },
     "output_type": "display_data"
    }
   ],
   "source": [
    "fig, ax = plt.subplots(figsize = (20,20))\n",
    "seaborn.heatmap(df_hotels, cmap='rainbow', ax = ax)\n",
    "plt.show()"
   ]
  },
  {
   "cell_type": "markdown",
   "metadata": {},
   "source": [
    "To give the dataframe to pyanno we need to convert to np array and change the nans to intergers, lets use -1"
   ]
  },
  {
   "cell_type": "code",
   "execution_count": 237,
   "metadata": {},
   "outputs": [
    {
     "ename": "AttributeError",
     "evalue": "'DataFrame' object has no attribute 'as_matrix'",
     "output_type": "error",
     "traceback": [
      "\u001b[1;31m---------------------------------------------------------------------------\u001b[0m",
      "\u001b[1;31mAttributeError\u001b[0m                            Traceback (most recent call last)",
      "\u001b[1;32m<ipython-input-237-6a5074ba9450>\u001b[0m in \u001b[0;36m<module>\u001b[1;34m\u001b[0m\n\u001b[1;32m----> 1\u001b[1;33m \u001b[0mhot_mat\u001b[0m \u001b[1;33m=\u001b[0m \u001b[0mnp\u001b[0m\u001b[1;33m.\u001b[0m\u001b[0marray\u001b[0m\u001b[1;33m(\u001b[0m\u001b[0mdf_hotels\u001b[0m\u001b[1;33m.\u001b[0m\u001b[0mfillna\u001b[0m\u001b[1;33m(\u001b[0m\u001b[1;33m-\u001b[0m\u001b[1;36m1\u001b[0m\u001b[1;33m)\u001b[0m\u001b[1;33m.\u001b[0m\u001b[0mas_matrix\u001b[0m\u001b[1;33m(\u001b[0m\u001b[1;33m)\u001b[0m\u001b[1;33m)\u001b[0m\u001b[1;33m\u001b[0m\u001b[1;33m\u001b[0m\u001b[0m\n\u001b[0m\u001b[0;32m      2\u001b[0m \u001b[0manno_hot\u001b[0m \u001b[1;33m=\u001b[0m \u001b[0mAnnotationsContainer\u001b[0m\u001b[1;33m.\u001b[0m\u001b[0mfrom_array\u001b[0m\u001b[1;33m(\u001b[0m\u001b[0mhot_mat\u001b[0m\u001b[1;33m,\u001b[0m \u001b[0mmissing_values\u001b[0m\u001b[1;33m=\u001b[0m\u001b[1;33m[\u001b[0m\u001b[1;33m-\u001b[0m\u001b[1;36m1\u001b[0m\u001b[1;33m]\u001b[0m\u001b[1;33m)\u001b[0m\u001b[1;33m\u001b[0m\u001b[1;33m\u001b[0m\u001b[0m\n",
      "\u001b[1;32mC:\\ProgramData\\Anaconda3\\lib\\site-packages\\pandas\\core\\generic.py\u001b[0m in \u001b[0;36m__getattr__\u001b[1;34m(self, name)\u001b[0m\n\u001b[0;32m   5137\u001b[0m             \u001b[1;32mif\u001b[0m \u001b[0mself\u001b[0m\u001b[1;33m.\u001b[0m\u001b[0m_info_axis\u001b[0m\u001b[1;33m.\u001b[0m\u001b[0m_can_hold_identifiers_and_holds_name\u001b[0m\u001b[1;33m(\u001b[0m\u001b[0mname\u001b[0m\u001b[1;33m)\u001b[0m\u001b[1;33m:\u001b[0m\u001b[1;33m\u001b[0m\u001b[1;33m\u001b[0m\u001b[0m\n\u001b[0;32m   5138\u001b[0m                 \u001b[1;32mreturn\u001b[0m \u001b[0mself\u001b[0m\u001b[1;33m[\u001b[0m\u001b[0mname\u001b[0m\u001b[1;33m]\u001b[0m\u001b[1;33m\u001b[0m\u001b[1;33m\u001b[0m\u001b[0m\n\u001b[1;32m-> 5139\u001b[1;33m             \u001b[1;32mreturn\u001b[0m \u001b[0mobject\u001b[0m\u001b[1;33m.\u001b[0m\u001b[0m__getattribute__\u001b[0m\u001b[1;33m(\u001b[0m\u001b[0mself\u001b[0m\u001b[1;33m,\u001b[0m \u001b[0mname\u001b[0m\u001b[1;33m)\u001b[0m\u001b[1;33m\u001b[0m\u001b[1;33m\u001b[0m\u001b[0m\n\u001b[0m\u001b[0;32m   5140\u001b[0m \u001b[1;33m\u001b[0m\u001b[0m\n\u001b[0;32m   5141\u001b[0m     \u001b[1;32mdef\u001b[0m \u001b[0m__setattr__\u001b[0m\u001b[1;33m(\u001b[0m\u001b[0mself\u001b[0m\u001b[1;33m,\u001b[0m \u001b[0mname\u001b[0m\u001b[1;33m:\u001b[0m \u001b[0mstr\u001b[0m\u001b[1;33m,\u001b[0m \u001b[0mvalue\u001b[0m\u001b[1;33m)\u001b[0m \u001b[1;33m->\u001b[0m \u001b[1;32mNone\u001b[0m\u001b[1;33m:\u001b[0m\u001b[1;33m\u001b[0m\u001b[1;33m\u001b[0m\u001b[0m\n",
      "\u001b[1;31mAttributeError\u001b[0m: 'DataFrame' object has no attribute 'as_matrix'"
     ]
    }
   ],
   "source": [
    "hot_mat = np.array(df_hotels.fillna(-1).as_matrix())\n",
    "anno_hot = AnnotationsContainer.from_array(hot_mat, missing_values=[-1])"
   ]
  },
  {
   "cell_type": "code",
   "execution_count": null,
   "metadata": {},
   "outputs": [],
   "source": [
    "anno_hot.annotations"
   ]
  },
  {
   "cell_type": "code",
   "execution_count": null,
   "metadata": {},
   "outputs": [],
   "source": [
    "anno_hot.labels"
   ]
  },
  {
   "cell_type": "code",
   "execution_count": null,
   "metadata": {},
   "outputs": [],
   "source": [
    "anno_hot.missing_values"
   ]
  },
  {
   "cell_type": "markdown",
   "metadata": {},
   "source": [
    "Look at coder agreement"
   ]
  },
  {
   "cell_type": "code",
   "execution_count": null,
   "metadata": {},
   "outputs": [],
   "source": [
    "pyanno.measures.agreement.labels_frequency(anno_hot.annotations, 6)#6 possible catagories"
   ]
  },
  {
   "cell_type": "code",
   "execution_count": null,
   "metadata": {},
   "outputs": [],
   "source": [
    "c = pyanno.measures.agreement.confusion_matrix(anno_hot.annotations[:,0], anno_hot.annotations[:,1], 6) #6 possible catagories\n",
    "print(c)\n",
    "ac = seaborn.heatmap(c)\n",
    "plt.show()"
   ]
  },
  {
   "cell_type": "markdown",
   "metadata": {},
   "source": [
    "Most agreement is on 2 i.e. an average hotel and there's little agreement as rating go higher, likely due to scarcity in the sample"
   ]
  },
  {
   "cell_type": "code",
   "execution_count": null,
   "metadata": {},
   "outputs": [],
   "source": [
    "scotts_pi(anno_hot.annotations[:,0], anno_hot.annotations[:,1])"
   ]
  },
  {
   "cell_type": "code",
   "execution_count": null,
   "metadata": {},
   "outputs": [],
   "source": [
    "krippendorffs_alpha(anno_hot.annotations[::])"
   ]
  },
  {
   "cell_type": "code",
   "execution_count": null,
   "metadata": {},
   "outputs": [],
   "source": [
    "cohens_kappa(anno_hot.annotations[:,0], anno_hot.annotations[:,1])"
   ]
  },
  {
   "cell_type": "code",
   "execution_count": null,
   "metadata": {},
   "outputs": [],
   "source": [
    "m = pairwise_matrix(cohens_kappa, anno_hot.annotations)\n",
    "fig, ax = plt.subplots(figsize = (15, 15))\n",
    "seaborn.heatmap(m, ax =ax)"
   ]
  },
  {
   "cell_type": "code",
   "execution_count": null,
   "metadata": {},
   "outputs": [],
   "source": [
    "model_hot = ModelBt.create_initial_state(6, 49)\n",
    "model_hot.mle(anno_hot.annotations)\n",
    "print(model.theta)\n",
    "print(model_hot.log_likelihood(anno_hot.annotations))"
   ]
  },
  {
   "cell_type": "code",
   "execution_count": null,
   "metadata": {},
   "outputs": [],
   "source": [
    "def makeQuestionComparison(model, anno_target, num_questions = 20):\n",
    "    votes = []\n",
    "    for r in anno_target.annotations:\n",
    "        v = [0] * len(anno_target.labels)\n",
    "        votes.append(v)\n",
    "        for a in r:\n",
    "            if a > -1:\n",
    "                v[a] += 1\n",
    "    votes_array = np.array(votes)\n",
    "    posterior = model.infer_labels(anno_target.annotations)\n",
    "    fig, (ax1, ax2) = plt.subplots(ncols=2, figsize = (15, 10), sharey=True)\n",
    "\n",
    "    seaborn.heatmap(votes_array[:num_questions], annot = True, ax=ax2)\n",
    "    seaborn.heatmap(np.nan_to_num(posterior,0)[:num_questions], annot=True, ax =ax1)\n",
    "    ax1.set_title(\"Model\")\n",
    "    ax2.set_title(\"Votes\")\n",
    "    return fig, (ax1, ax2)"
   ]
  },
  {
   "cell_type": "code",
   "execution_count": null,
   "metadata": {},
   "outputs": [],
   "source": [
    "makeQuestionComparison(model_hot, anno_hot)"
   ]
  },
  {
   "cell_type": "markdown",
   "metadata": {},
   "source": [
    "## <span style=\"color:red\">*Your turn*</span>\n",
    "\n",
    "<span style=\"color:red\">In the cells immediately following, use the results of your content annotation survey to predict high and low-quality analysts, then predict MAP estimates for your codes in question. What do these estimates suggest about the distribution of skill among your coders? How different are these estimates from a majority vote?"
   ]
  },
  {
   "cell_type": "code",
   "execution_count": 202,
   "metadata": {},
   "outputs": [
    {
     "data": {
      "text/plain": [
       "(21, 5)"
      ]
     },
     "execution_count": 202,
     "metadata": {},
     "output_type": "execute_result"
    }
   ],
   "source": [
    "aiAnno.annotations.shape"
   ]
  },
  {
   "cell_type": "code",
   "execution_count": 204,
   "metadata": {},
   "outputs": [],
   "source": [
    "negs3 = np.ones((21, 3), dtype=np.int)*(-1)\n",
    "aiAnnoA = np.concatenate((aiAnno.annotations, negs3), axis=1)"
   ]
  },
  {
   "cell_type": "code",
   "execution_count": 207,
   "metadata": {},
   "outputs": [
    {
     "data": {
      "text/plain": [
       "(21, 8)"
      ]
     },
     "execution_count": 207,
     "metadata": {},
     "output_type": "execute_result"
    }
   ],
   "source": [
    "aiAnnoA.shape"
   ]
  },
  {
   "cell_type": "code",
   "execution_count": 211,
   "metadata": {},
   "outputs": [
    {
     "data": {
      "text/plain": [
       "array([[ 0,  1,  2,  3,  4, -1, -1, -1],\n",
       "       [ 8,  9,  4,  7,  9, -1, -1, -1],\n",
       "       [ 5,  9,  0,  6,  9, -1, -1, -1],\n",
       "       [ 1,  0,  1,  0,  0, -1, -1, -1],\n",
       "       [ 2,  0,  7,  0,  0, -1, -1, -1],\n",
       "       [ 1,  6,  6,  4,  4, -1, -1, -1],\n",
       "       [ 3,  1,  6,  1,  2, -1, -1, -1],\n",
       "       [ 7,  1,  6,  4,  0, -1, -1, -1],\n",
       "       [ 1,  0,  7,  1,  0, -1, -1, -1],\n",
       "       [ 4,  7,  9,  4,  4, -1, -1, -1],\n",
       "       [ 1,  2,  3,  4,  0, -1, -1, -1],\n",
       "       [ 5,  8,  3,  7,  7, -1, -1, -1],\n",
       "       [ 7,  9,  4,  4,  9, -1, -1, -1],\n",
       "       [ 1,  0,  2,  0,  1, -1, -1, -1],\n",
       "       [ 6,  6,  2,  0,  4, -1, -1, -1],\n",
       "       [ 2,  2,  6,  0,  4, -1, -1, -1],\n",
       "       [ 8,  8,  1,  4,  7, -1, -1, -1],\n",
       "       [ 8,  9,  1,  9,  9, -1, -1, -1],\n",
       "       [ 9,  9,  3,  9,  9, -1, -1, -1],\n",
       "       [ 0,  0,  5,  1,  0, -1, -1, -1],\n",
       "       [ 1,  9,  7,  2,  8, -1, -1, -1]])"
      ]
     },
     "execution_count": 211,
     "metadata": {},
     "output_type": "execute_result"
    }
   ],
   "source": [
    "aiAnnoA"
   ]
  },
  {
   "cell_type": "code",
   "execution_count": 208,
   "metadata": {},
   "outputs": [
    {
     "name": "stdout",
     "output_type": "stream",
     "text": [
      "[[[3.46097824e-01 1.99832295e-01 2.87937726e-02 ... 1.12120832e-02\n",
      "   2.50330266e-02 8.66173766e-03]\n",
      "  [5.64763763e-02 3.29505431e-01 1.05015512e-01 ... 3.96752199e-03\n",
      "   2.34915073e-02 7.28528523e-04]\n",
      "  [5.24469621e-03 1.86945354e-01 3.19430936e-01 ... 3.66212967e-03\n",
      "   4.23291124e-03 2.82952569e-02]\n",
      "  ...\n",
      "  [1.59766411e-02 1.63293088e-02 4.67880244e-02 ... 3.35565713e-01\n",
      "   8.19752673e-02 7.19356950e-02]\n",
      "  [1.77745325e-02 1.60719880e-02 1.04169347e-02 ... 8.35865270e-02\n",
      "   3.64805468e-01 3.95224593e-02]\n",
      "  [3.27981451e-02 6.91848555e-03 4.58347290e-03 ... 2.32849651e-02\n",
      "   1.11115084e-02 4.74815138e-01]]\n",
      "\n",
      " [[4.10026314e-01 1.05326923e-01 1.70570753e-02 ... 2.61603847e-02\n",
      "   6.24701930e-02 1.68474188e-02]\n",
      "  [1.40359576e-01 3.56466199e-01 7.59803081e-02 ... 3.48141469e-02\n",
      "   1.25401452e-02 1.02040510e-02]\n",
      "  [6.26258893e-03 1.04433402e-01 3.73224040e-01 ... 3.06654562e-02\n",
      "   6.77800477e-02 7.71428578e-03]\n",
      "  ...\n",
      "  [8.93715946e-04 1.78385949e-02 8.28178221e-03 ... 2.55459667e-01\n",
      "   5.85175354e-02 4.95095531e-02]\n",
      "  [1.26784842e-03 1.35364496e-02 2.19973066e-02 ... 8.92211257e-02\n",
      "   3.66234443e-01 1.74273350e-01]\n",
      "  [1.93775792e-02 3.30379168e-02 3.47368956e-03 ... 2.77575745e-02\n",
      "   7.02266990e-02 3.34012014e-01]]\n",
      "\n",
      " [[3.97868030e-01 1.06459737e-01 5.65790860e-02 ... 1.22969419e-03\n",
      "   3.49056718e-02 6.71185218e-03]\n",
      "  [3.74777751e-02 4.58439246e-01 1.08331090e-01 ... 2.73784051e-03\n",
      "   2.04660682e-03 3.46880576e-03]\n",
      "  [3.05793586e-02 1.20844422e-01 4.04931212e-01 ... 1.78501302e-02\n",
      "   2.78724370e-02 4.99463395e-03]\n",
      "  ...\n",
      "  [4.45855059e-02 7.54687876e-04 5.98098454e-04 ... 3.04931883e-01\n",
      "   9.21587625e-02 9.50995450e-03]\n",
      "  [2.61947286e-02 1.23856131e-02 1.25750530e-01 ... 9.14967519e-02\n",
      "   4.31652032e-01 4.72762345e-02]\n",
      "  [1.86837615e-02 4.89493227e-02 8.16373473e-02 ... 8.14345024e-02\n",
      "   1.50147641e-01 3.31478445e-01]]\n",
      "\n",
      " ...\n",
      "\n",
      " [[2.46358668e-01 1.13805744e-01 5.57772942e-02 ... 4.29630403e-02\n",
      "   7.85648802e-02 2.93876235e-02]\n",
      "  [4.38319291e-02 2.38799704e-01 1.20965721e-01 ... 2.31557574e-02\n",
      "   1.98427793e-02 2.29468310e-02]\n",
      "  [2.05017200e-02 1.12405720e-01 4.08272691e-01 ... 2.02504790e-02\n",
      "   2.90620140e-03 5.70898278e-02]\n",
      "  ...\n",
      "  [4.50521364e-02 1.22257569e-02 2.77602823e-02 ... 3.41568930e-01\n",
      "   1.30765457e-01 3.20145709e-02]\n",
      "  [8.31896014e-02 1.72615028e-02 2.47163525e-03 ... 2.64613401e-02\n",
      "   3.47514312e-01 1.78201687e-01]\n",
      "  [4.32199675e-02 6.99351689e-03 5.33408551e-03 ... 4.95012431e-02\n",
      "   1.94410537e-01 2.63643774e-01]]\n",
      "\n",
      " [[3.35708154e-01 2.50425460e-02 8.88300774e-02 ... 5.79227905e-03\n",
      "   2.43053613e-02 3.99413896e-02]\n",
      "  [8.17085800e-02 4.36213409e-01 6.27126788e-02 ... 2.17797038e-02\n",
      "   1.00245583e-02 2.53848412e-02]\n",
      "  [1.50169472e-01 8.42585163e-02 2.87971996e-01 ... 2.85574752e-02\n",
      "   1.56413947e-02 1.65624611e-02]\n",
      "  ...\n",
      "  [2.14765849e-03 2.12180095e-02 6.68902915e-02 ... 4.51360993e-01\n",
      "   1.04241990e-01 2.61320802e-02]\n",
      "  [3.15891081e-03 3.25909859e-03 6.46529084e-03 ... 5.91737415e-02\n",
      "   5.07418742e-01 1.55264737e-01]\n",
      "  [3.42331544e-02 3.33637493e-03 1.51182020e-02 ... 3.01541748e-02\n",
      "   1.12813238e-01 3.62196250e-01]]\n",
      "\n",
      " [[3.24022276e-01 1.23038014e-01 3.72569882e-02 ... 1.54230953e-02\n",
      "   3.05495827e-02 2.00569332e-04]\n",
      "  [2.69555819e-01 2.61769537e-01 8.32960722e-02 ... 1.40041131e-02\n",
      "   1.75727137e-02 3.71202213e-02]\n",
      "  [3.03081967e-02 1.03706086e-01 3.24446926e-01 ... 4.87320558e-02\n",
      "   3.76144906e-02 1.36038373e-03]\n",
      "  ...\n",
      "  [2.44082789e-02 5.61230577e-04 3.07041985e-02 ... 3.27678348e-01\n",
      "   1.72075323e-01 1.80772422e-02]\n",
      "  [2.56870016e-02 9.74802280e-03 4.04005141e-02 ... 6.31833954e-02\n",
      "   3.12604433e-01 1.43620681e-01]\n",
      "  [5.49734824e-03 5.02977848e-02 6.22096565e-03 ... 7.44426991e-03\n",
      "   2.03315180e-01 4.12874493e-01]]]\n",
      "-290.14547465522696\n"
     ]
    }
   ],
   "source": [
    "# create a new instance of model A, with 4 label classes\n",
    "model = ModelB.create_initial_state(21, 8)\n",
    "# other model parameters are initialized from the model prior\n",
    "print(model.theta)\n",
    "print(model.log_likelihood(aiAnnoA))"
   ]
  },
  {
   "cell_type": "code",
   "execution_count": 209,
   "metadata": {},
   "outputs": [],
   "source": [
    "samples = model.sample_posterior_over_accuracy(aiAnnoA, 200, burn_in_samples=100, thin_samples=3)"
   ]
  },
  {
   "cell_type": "code",
   "execution_count": 210,
   "metadata": {},
   "outputs": [
    {
     "name": "stdout",
     "output_type": "stream",
     "text": [
      "[[[0.67484867 0.24079525 0.08435608 ... 0.         0.         0.        ]\n",
      "  [0.11969226 0.6454147  0.11969226 ... 0.         0.         0.        ]\n",
      "  [0.07928107 0.1234457  0.63424853 ... 0.         0.         0.        ]\n",
      "  ...\n",
      "  [0.         0.         0.         ... 0.65217391 0.13043478 0.04347826]\n",
      "  [0.         0.         0.         ... 0.13636364 0.68181818 0.13636364]\n",
      "  [0.         0.         0.         ... 0.05263158 0.15789474 0.78947368]]\n",
      "\n",
      " [[0.83128783 0.12653413 0.04217804 ... 0.         0.         0.        ]\n",
      "  [0.13105987 0.67376466 0.15527805 ... 0.         0.         0.        ]\n",
      "  [0.03988076 0.1630247  0.6385324  ... 0.         0.         0.        ]\n",
      "  ...\n",
      "  [0.         0.         0.         ... 0.65217391 0.13043478 0.04347826]\n",
      "  [0.         0.         0.         ... 0.13636364 0.68181818 0.13636364]\n",
      "  [0.         0.         0.         ... 0.05263158 0.15789474 0.78947368]]\n",
      "\n",
      " [[0.63267063 0.16698399 0.07381126 ... 0.         0.         0.        ]\n",
      "  [0.11969226 0.60009419 0.12942698 ... 0.         0.         0.        ]\n",
      "  [0.03964053 0.11892344 0.63448692 ... 0.         0.         0.        ]\n",
      "  ...\n",
      "  [0.         0.         0.         ... 0.65217391 0.13043478 0.04347826]\n",
      "  [0.         0.         0.         ... 0.13636364 0.68181818 0.13636364]\n",
      "  [0.         0.         0.         ... 0.05263158 0.15789474 0.78947368]]\n",
      "\n",
      " ...\n",
      "\n",
      " [[0.78947368 0.15789474 0.05263158 ... 0.         0.         0.        ]\n",
      "  [0.13636364 0.68181818 0.13636364 ... 0.         0.         0.        ]\n",
      "  [0.04347826 0.13043478 0.65217391 ... 0.         0.         0.        ]\n",
      "  ...\n",
      "  [0.         0.         0.         ... 0.65217391 0.13043478 0.04347826]\n",
      "  [0.         0.         0.         ... 0.13636364 0.68181818 0.13636364]\n",
      "  [0.         0.         0.         ... 0.05263158 0.15789474 0.78947368]]\n",
      "\n",
      " [[0.78947368 0.15789474 0.05263158 ... 0.         0.         0.        ]\n",
      "  [0.13636364 0.68181818 0.13636364 ... 0.         0.         0.        ]\n",
      "  [0.04347826 0.13043478 0.65217391 ... 0.         0.         0.        ]\n",
      "  ...\n",
      "  [0.         0.         0.         ... 0.65217391 0.13043478 0.04347826]\n",
      "  [0.         0.         0.         ... 0.13636364 0.68181818 0.13636364]\n",
      "  [0.         0.         0.         ... 0.05263158 0.15789474 0.78947368]]\n",
      "\n",
      " [[0.78947368 0.15789474 0.05263158 ... 0.         0.         0.        ]\n",
      "  [0.13636364 0.68181818 0.13636364 ... 0.         0.         0.        ]\n",
      "  [0.04347826 0.13043478 0.65217391 ... 0.         0.         0.        ]\n",
      "  ...\n",
      "  [0.         0.         0.         ... 0.65217391 0.13043478 0.04347826]\n",
      "  [0.         0.         0.         ... 0.13636364 0.68181818 0.13636364]\n",
      "  [0.         0.         0.         ... 0.05263158 0.15789474 0.78947368]]]\n",
      "-204.51897787843225\n"
     ]
    },
    {
     "name": "stderr",
     "output_type": "stream",
     "text": [
      "C:\\ProgramData\\Anaconda3\\lib\\site-packages\\pyanno\\util.py:80: RuntimeWarning: divide by zero encountered in log\n",
      "  log_theta = ninf_to_num(log(theta))\n"
     ]
    }
   ],
   "source": [
    "model.map(aiAnnoA)\n",
    "print(model.theta)\n",
    "print(model.log_likelihood(aiAnnoA))"
   ]
  },
  {
   "cell_type": "code",
   "execution_count": 216,
   "metadata": {},
   "outputs": [
    {
     "name": "stdout",
     "output_type": "stream",
     "text": [
      "[[[6.74848675e-001 2.40795240e-001 8.43560844e-002 0.00000000e+000\n",
      "   0.00000000e+000 0.00000000e+000 0.00000000e+000 0.00000000e+000\n",
      "   0.00000000e+000 0.00000000e+000]\n",
      "  [1.19692260e-001 6.45414705e-001 1.19692260e-001 7.53033542e-002\n",
      "   0.00000000e+000 0.00000000e+000 0.00000000e+000 3.98974201e-002\n",
      "   0.00000000e+000 0.00000000e+000]\n",
      "  [7.92810671e-002 1.23445695e-001 6.34248537e-001 1.23384167e-001\n",
      "   3.96405335e-002 0.00000000e+000 0.00000000e+000 1.55799702e-038\n",
      "   0.00000000e+000 0.00000000e+000]\n",
      "  [0.00000000e+000 4.34782609e-002 1.30434783e-001 6.52173913e-001\n",
      "   1.30434783e-001 4.34782609e-002 0.00000000e+000 0.00000000e+000\n",
      "   0.00000000e+000 0.00000000e+000]\n",
      "  [0.00000000e+000 8.88311051e-019 4.16666667e-002 1.25000000e-001\n",
      "   6.66666667e-001 1.25000000e-001 4.16666667e-002 0.00000000e+000\n",
      "   0.00000000e+000 0.00000000e+000]\n",
      "  [0.00000000e+000 0.00000000e+000 0.00000000e+000 4.34782609e-002\n",
      "   1.30434783e-001 6.52173913e-001 1.30434783e-001 4.34782609e-002\n",
      "   0.00000000e+000 0.00000000e+000]\n",
      "  [0.00000000e+000 4.00000000e-002 0.00000000e+000 0.00000000e+000\n",
      "   4.00000000e-002 1.20000000e-001 6.40000000e-001 1.20000000e-001\n",
      "   4.00000000e-002 0.00000000e+000]\n",
      "  [0.00000000e+000 0.00000000e+000 0.00000000e+000 0.00000000e+000\n",
      "   0.00000000e+000 8.26438528e-002 1.25094010e-001 6.25470052e-001\n",
      "   1.25094010e-001 4.16980747e-002]\n",
      "  [0.00000000e+000 0.00000000e+000 0.00000000e+000 0.00000000e+000\n",
      "   0.00000000e+000 0.00000000e+000 4.36781134e-002 1.31034340e-001\n",
      "   6.94253206e-001 1.31034340e-001]\n",
      "  [0.00000000e+000 3.98037284e-002 0.00000000e+000 0.00000000e+000\n",
      "   0.00000000e+000 4.05217133e-002 0.00000000e+000 7.96074567e-002\n",
      "   2.03207516e-001 6.36859586e-001]]\n",
      "\n",
      " [[8.31287831e-001 1.26534127e-001 4.21780422e-002 0.00000000e+000\n",
      "   0.00000000e+000 0.00000000e+000 0.00000000e+000 0.00000000e+000\n",
      "   0.00000000e+000 0.00000000e+000]\n",
      "  [1.31059869e-001 6.73764656e-001 1.55278054e-001 3.98974201e-002\n",
      "   0.00000000e+000 0.00000000e+000 1.27939203e-179 0.00000000e+000\n",
      "   0.00000000e+000 0.00000000e+000]\n",
      "  [3.98807629e-002 1.63024701e-001 6.38532402e-001 1.18921601e-001\n",
      "   3.96405335e-002 0.00000000e+000 6.45764965e-045 0.00000000e+000\n",
      "   0.00000000e+000 0.00000000e+000]\n",
      "  [0.00000000e+000 4.34782609e-002 1.30434783e-001 6.52173913e-001\n",
      "   1.30434783e-001 4.34782609e-002 0.00000000e+000 0.00000000e+000\n",
      "   0.00000000e+000 0.00000000e+000]\n",
      "  [0.00000000e+000 0.00000000e+000 4.16666667e-002 1.25000000e-001\n",
      "   6.25000000e-001 1.25000000e-001 4.16666667e-002 4.16666667e-002\n",
      "   0.00000000e+000 0.00000000e+000]\n",
      "  [0.00000000e+000 0.00000000e+000 0.00000000e+000 4.34782609e-002\n",
      "   1.30434783e-001 6.52173913e-001 1.30434783e-001 4.34782609e-002\n",
      "   0.00000000e+000 0.00000000e+000]\n",
      "  [0.00000000e+000 0.00000000e+000 0.00000000e+000 0.00000000e+000\n",
      "   4.00000000e-002 1.20000000e-001 6.80000000e-001 1.20000000e-001\n",
      "   4.00000000e-002 0.00000000e+000]\n",
      "  [0.00000000e+000 0.00000000e+000 0.00000000e+000 0.00000000e+000\n",
      "   0.00000000e+000 4.16980035e-002 1.25094010e-001 6.25470052e-001\n",
      "   1.66039860e-001 4.16980747e-002]\n",
      "  [0.00000000e+000 0.00000000e+000 0.00000000e+000 0.00000000e+000\n",
      "   0.00000000e+000 0.00000000e+000 4.36781134e-002 1.31034340e-001\n",
      "   6.94156378e-001 1.31131168e-001]\n",
      "  [0.00000000e+000 0.00000000e+000 0.00000000e+000 0.00000000e+000\n",
      "   0.00000000e+000 0.00000000e+000 0.00000000e+000 3.98037284e-002\n",
      "   1.24406284e-001 8.35789988e-001]]\n",
      "\n",
      " [[6.32670633e-001 1.66983987e-001 7.38112527e-002 0.00000000e+000\n",
      "   0.00000000e+000 4.21780422e-002 0.00000000e+000 8.43560844e-002\n",
      "   0.00000000e+000 0.00000000e+000]\n",
      "  [1.19692260e-001 6.00094185e-001 1.29426986e-001 7.54832139e-002\n",
      "   0.00000000e+000 1.69273965e-044 7.53033542e-002 2.75301919e-023\n",
      "   0.00000000e+000 0.00000000e+000]\n",
      "  [3.96405335e-002 1.18923442e-001 6.34486925e-001 1.23205466e-001\n",
      "   3.96405335e-002 8.30756572e-091 4.41031004e-002 1.40188230e-066\n",
      "   0.00000000e+000 0.00000000e+000]\n",
      "  [0.00000000e+000 4.34782609e-002 1.30434783e-001 6.52173913e-001\n",
      "   1.30434783e-001 4.34782609e-002 0.00000000e+000 0.00000000e+000\n",
      "   0.00000000e+000 0.00000000e+000]\n",
      "  [0.00000000e+000 0.00000000e+000 4.16666667e-002 1.25000000e-001\n",
      "   6.25000000e-001 1.25000000e-001 4.16666667e-002 0.00000000e+000\n",
      "   0.00000000e+000 4.16666667e-002]\n",
      "  [0.00000000e+000 0.00000000e+000 0.00000000e+000 4.34782609e-002\n",
      "   1.30434783e-001 6.52173913e-001 1.30434783e-001 4.34782609e-002\n",
      "   0.00000000e+000 0.00000000e+000]\n",
      "  [0.00000000e+000 8.56944516e-048 4.00000000e-002 5.81759763e-039\n",
      "   4.00000000e-002 1.20000000e-001 6.40000000e-001 1.20000000e-001\n",
      "   4.00000000e-002 6.14748804e-053]\n",
      "  [2.51098849e-057 3.99463969e-098 0.00000000e+000 4.09459206e-002\n",
      "   5.21804913e-064 4.16980035e-002 1.25094010e-001 6.25470052e-001\n",
      "   1.25094010e-001 4.16980035e-002]\n",
      "  [0.00000000e+000 3.90815056e-002 0.00000000e+000 1.27599938e-080\n",
      "   6.23996091e-041 0.00000000e+000 4.36781134e-002 1.31034340e-001\n",
      "   6.55171701e-001 1.31034340e-001]\n",
      "  [3.98037284e-002 4.39926027e-002 0.00000000e+000 4.05216452e-002\n",
      "   7.96074567e-002 0.00000000e+000 0.00000000e+000 7.96074567e-002\n",
      "   1.19411185e-001 5.97055925e-001]]\n",
      "\n",
      " [[7.46931747e-001 2.10890211e-001 4.21780422e-002 0.00000000e+000\n",
      "   0.00000000e+000 0.00000000e+000 0.00000000e+000 0.00000000e+000\n",
      "   0.00000000e+000 0.00000000e+000]\n",
      "  [1.31059869e-001 6.33867236e-001 1.19692260e-001 3.98974201e-002\n",
      "   7.54832139e-002 0.00000000e+000 0.00000000e+000 0.00000000e+000\n",
      "   0.00000000e+000 0.00000000e+000]\n",
      "  [7.95212964e-002 1.23384167e-001 5.94608003e-001 1.58562134e-001\n",
      "   4.39243987e-002 0.00000000e+000 0.00000000e+000 0.00000000e+000\n",
      "   0.00000000e+000 0.00000000e+000]\n",
      "  [0.00000000e+000 4.34782609e-002 1.30434783e-001 6.52173913e-001\n",
      "   1.30434783e-001 4.34782609e-002 0.00000000e+000 0.00000000e+000\n",
      "   0.00000000e+000 0.00000000e+000]\n",
      "  [4.28441138e-037 0.00000000e+000 4.16666667e-002 1.25000000e-001\n",
      "   6.66666667e-001 1.25000000e-001 4.16666667e-002 0.00000000e+000\n",
      "   0.00000000e+000 0.00000000e+000]\n",
      "  [0.00000000e+000 0.00000000e+000 0.00000000e+000 4.34782609e-002\n",
      "   1.30434783e-001 6.52173913e-001 1.30434783e-001 4.34782609e-002\n",
      "   0.00000000e+000 0.00000000e+000]\n",
      "  [4.00000000e-002 0.00000000e+000 0.00000000e+000 0.00000000e+000\n",
      "   8.00000000e-002 1.20000000e-001 6.00000000e-001 1.20000000e-001\n",
      "   4.00000000e-002 0.00000000e+000]\n",
      "  [0.00000000e+000 0.00000000e+000 0.00000000e+000 0.00000000e+000\n",
      "   0.00000000e+000 4.16980035e-002 1.25094010e-001 6.66415901e-001\n",
      "   1.25094010e-001 4.16980747e-002]\n",
      "  [0.00000000e+000 0.00000000e+000 0.00000000e+000 0.00000000e+000\n",
      "   3.89846774e-002 0.00000000e+000 4.36781134e-002 1.31034340e-001\n",
      "   6.55171701e-001 1.31131168e-001]\n",
      "  [0.00000000e+000 0.00000000e+000 3.98037284e-002 0.00000000e+000\n",
      "   4.40808419e-002 0.00000000e+000 3.98037284e-002 8.03254416e-002\n",
      "   1.19411185e-001 6.76575075e-001]]\n",
      "\n",
      " [[7.99654621e-001 1.58167337e-001 4.21780422e-002 0.00000000e+000\n",
      "   0.00000000e+000 0.00000000e+000 0.00000000e+000 0.00000000e+000\n",
      "   0.00000000e+000 0.00000000e+000]\n",
      "  [1.96808357e-001 6.08196028e-001 1.55098194e-001 3.98974201e-002\n",
      "   8.61826330e-017 0.00000000e+000 0.00000000e+000 0.00000000e+000\n",
      "   0.00000000e+000 0.00000000e+000]\n",
      "  [4.39262402e-002 1.19159989e-001 5.99070570e-001 1.18921601e-001\n",
      "   1.18921601e-001 0.00000000e+000 0.00000000e+000 0.00000000e+000\n",
      "   0.00000000e+000 0.00000000e+000]\n",
      "  [0.00000000e+000 4.34782609e-002 1.30434783e-001 6.52173913e-001\n",
      "   1.30434783e-001 4.34782609e-002 0.00000000e+000 0.00000000e+000\n",
      "   0.00000000e+000 0.00000000e+000]\n",
      "  [4.77921437e-167 0.00000000e+000 4.16666667e-002 1.25000000e-001\n",
      "   6.66666667e-001 1.25000000e-001 4.16666667e-002 0.00000000e+000\n",
      "   0.00000000e+000 0.00000000e+000]\n",
      "  [0.00000000e+000 0.00000000e+000 0.00000000e+000 4.34782609e-002\n",
      "   1.30434783e-001 6.52173913e-001 1.30434783e-001 4.34782609e-002\n",
      "   0.00000000e+000 0.00000000e+000]\n",
      "  [0.00000000e+000 0.00000000e+000 0.00000000e+000 0.00000000e+000\n",
      "   1.20000000e-001 1.20000000e-001 6.00000000e-001 1.20000000e-001\n",
      "   4.00000000e-002 0.00000000e+000]\n",
      "  [0.00000000e+000 0.00000000e+000 0.00000000e+000 0.00000000e+000\n",
      "   0.00000000e+000 4.16980035e-002 1.25094010e-001 6.66415901e-001\n",
      "   1.25094010e-001 4.16980747e-002]\n",
      "  [0.00000000e+000 0.00000000e+000 0.00000000e+000 0.00000000e+000\n",
      "   0.00000000e+000 0.00000000e+000 4.36781134e-002 1.70019018e-001\n",
      "   6.55171701e-001 1.31131168e-001]\n",
      "  [0.00000000e+000 0.00000000e+000 0.00000000e+000 0.00000000e+000\n",
      "   0.00000000e+000 0.00000000e+000 0.00000000e+000 4.47988268e-002\n",
      "   1.59214913e-001 7.95986260e-001]]\n",
      "\n",
      " [[7.89473684e-001 1.57894737e-001 5.26315789e-002 0.00000000e+000\n",
      "   0.00000000e+000 0.00000000e+000 0.00000000e+000 0.00000000e+000\n",
      "   0.00000000e+000 0.00000000e+000]\n",
      "  [1.36363636e-001 6.81818182e-001 1.36363636e-001 4.54545455e-002\n",
      "   0.00000000e+000 0.00000000e+000 0.00000000e+000 0.00000000e+000\n",
      "   0.00000000e+000 0.00000000e+000]\n",
      "  [4.34782609e-002 1.30434783e-001 6.52173913e-001 1.30434783e-001\n",
      "   4.34782609e-002 0.00000000e+000 0.00000000e+000 0.00000000e+000\n",
      "   0.00000000e+000 0.00000000e+000]\n",
      "  [0.00000000e+000 4.34782609e-002 1.30434783e-001 6.52173913e-001\n",
      "   1.30434783e-001 4.34782609e-002 0.00000000e+000 0.00000000e+000\n",
      "   0.00000000e+000 0.00000000e+000]\n",
      "  [0.00000000e+000 0.00000000e+000 4.34782609e-002 1.30434783e-001\n",
      "   6.52173913e-001 1.30434783e-001 4.34782609e-002 0.00000000e+000\n",
      "   0.00000000e+000 0.00000000e+000]\n",
      "  [0.00000000e+000 0.00000000e+000 0.00000000e+000 4.34782609e-002\n",
      "   1.30434783e-001 6.52173913e-001 1.30434783e-001 4.34782609e-002\n",
      "   0.00000000e+000 0.00000000e+000]\n",
      "  [0.00000000e+000 0.00000000e+000 0.00000000e+000 0.00000000e+000\n",
      "   4.34782609e-002 1.30434783e-001 6.52173913e-001 1.30434783e-001\n",
      "   4.34782609e-002 0.00000000e+000]\n",
      "  [0.00000000e+000 0.00000000e+000 0.00000000e+000 0.00000000e+000\n",
      "   0.00000000e+000 4.34782609e-002 1.30434783e-001 6.52173913e-001\n",
      "   1.30434783e-001 4.34782609e-002]\n",
      "  [0.00000000e+000 0.00000000e+000 0.00000000e+000 0.00000000e+000\n",
      "   0.00000000e+000 0.00000000e+000 4.54545455e-002 1.36363636e-001\n",
      "   6.81818182e-001 1.36363636e-001]\n",
      "  [0.00000000e+000 0.00000000e+000 0.00000000e+000 0.00000000e+000\n",
      "   0.00000000e+000 0.00000000e+000 0.00000000e+000 5.26315789e-002\n",
      "   1.57894737e-001 7.89473684e-001]]\n",
      "\n",
      " [[7.89473684e-001 1.57894737e-001 5.26315789e-002 0.00000000e+000\n",
      "   0.00000000e+000 0.00000000e+000 0.00000000e+000 0.00000000e+000\n",
      "   0.00000000e+000 0.00000000e+000]\n",
      "  [1.36363636e-001 6.81818182e-001 1.36363636e-001 4.54545455e-002\n",
      "   0.00000000e+000 0.00000000e+000 0.00000000e+000 0.00000000e+000\n",
      "   0.00000000e+000 0.00000000e+000]\n",
      "  [4.34782609e-002 1.30434783e-001 6.52173913e-001 1.30434783e-001\n",
      "   4.34782609e-002 0.00000000e+000 0.00000000e+000 0.00000000e+000\n",
      "   0.00000000e+000 0.00000000e+000]\n",
      "  [0.00000000e+000 4.34782609e-002 1.30434783e-001 6.52173913e-001\n",
      "   1.30434783e-001 4.34782609e-002 0.00000000e+000 0.00000000e+000\n",
      "   0.00000000e+000 0.00000000e+000]\n",
      "  [0.00000000e+000 0.00000000e+000 4.34782609e-002 1.30434783e-001\n",
      "   6.52173913e-001 1.30434783e-001 4.34782609e-002 0.00000000e+000\n",
      "   0.00000000e+000 0.00000000e+000]\n",
      "  [0.00000000e+000 0.00000000e+000 0.00000000e+000 4.34782609e-002\n",
      "   1.30434783e-001 6.52173913e-001 1.30434783e-001 4.34782609e-002\n",
      "   0.00000000e+000 0.00000000e+000]\n",
      "  [0.00000000e+000 0.00000000e+000 0.00000000e+000 0.00000000e+000\n",
      "   4.34782609e-002 1.30434783e-001 6.52173913e-001 1.30434783e-001\n",
      "   4.34782609e-002 0.00000000e+000]\n",
      "  [0.00000000e+000 0.00000000e+000 0.00000000e+000 0.00000000e+000\n",
      "   0.00000000e+000 4.34782609e-002 1.30434783e-001 6.52173913e-001\n",
      "   1.30434783e-001 4.34782609e-002]\n",
      "  [0.00000000e+000 0.00000000e+000 0.00000000e+000 0.00000000e+000\n",
      "   0.00000000e+000 0.00000000e+000 4.54545455e-002 1.36363636e-001\n",
      "   6.81818182e-001 1.36363636e-001]\n",
      "  [0.00000000e+000 0.00000000e+000 0.00000000e+000 0.00000000e+000\n",
      "   0.00000000e+000 0.00000000e+000 0.00000000e+000 5.26315789e-002\n",
      "   1.57894737e-001 7.89473684e-001]]\n",
      "\n",
      " [[7.89473684e-001 1.57894737e-001 5.26315789e-002 0.00000000e+000\n",
      "   0.00000000e+000 0.00000000e+000 0.00000000e+000 0.00000000e+000\n",
      "   0.00000000e+000 0.00000000e+000]\n",
      "  [1.36363636e-001 6.81818182e-001 1.36363636e-001 4.54545455e-002\n",
      "   0.00000000e+000 0.00000000e+000 0.00000000e+000 0.00000000e+000\n",
      "   0.00000000e+000 0.00000000e+000]\n",
      "  [4.34782609e-002 1.30434783e-001 6.52173913e-001 1.30434783e-001\n",
      "   4.34782609e-002 0.00000000e+000 0.00000000e+000 0.00000000e+000\n",
      "   0.00000000e+000 0.00000000e+000]\n",
      "  [0.00000000e+000 4.34782609e-002 1.30434783e-001 6.52173913e-001\n",
      "   1.30434783e-001 4.34782609e-002 0.00000000e+000 0.00000000e+000\n",
      "   0.00000000e+000 0.00000000e+000]\n",
      "  [0.00000000e+000 0.00000000e+000 4.34782609e-002 1.30434783e-001\n",
      "   6.52173913e-001 1.30434783e-001 4.34782609e-002 0.00000000e+000\n",
      "   0.00000000e+000 0.00000000e+000]\n",
      "  [0.00000000e+000 0.00000000e+000 0.00000000e+000 4.34782609e-002\n",
      "   1.30434783e-001 6.52173913e-001 1.30434783e-001 4.34782609e-002\n",
      "   0.00000000e+000 0.00000000e+000]\n",
      "  [0.00000000e+000 0.00000000e+000 0.00000000e+000 0.00000000e+000\n",
      "   4.34782609e-002 1.30434783e-001 6.52173913e-001 1.30434783e-001\n",
      "   4.34782609e-002 0.00000000e+000]\n",
      "  [0.00000000e+000 0.00000000e+000 0.00000000e+000 0.00000000e+000\n",
      "   0.00000000e+000 4.34782609e-002 1.30434783e-001 6.52173913e-001\n",
      "   1.30434783e-001 4.34782609e-002]\n",
      "  [0.00000000e+000 0.00000000e+000 0.00000000e+000 0.00000000e+000\n",
      "   0.00000000e+000 0.00000000e+000 4.54545455e-002 1.36363636e-001\n",
      "   6.81818182e-001 1.36363636e-001]\n",
      "  [0.00000000e+000 0.00000000e+000 0.00000000e+000 0.00000000e+000\n",
      "   0.00000000e+000 0.00000000e+000 0.00000000e+000 5.26315789e-002\n",
      "   1.57894737e-001 7.89473684e-001]]]\n",
      "-200.16329214810509\n"
     ]
    }
   ],
   "source": [
    "model = ModelB.create_initial_state(10, 8)\n",
    "model.map(aiAnnoA)\n",
    "print(model.theta)\n",
    "print(model.log_likelihood(aiAnnoA))"
   ]
  },
  {
   "cell_type": "code",
   "execution_count": 219,
   "metadata": {},
   "outputs": [
    {
     "name": "stdout",
     "output_type": "stream",
     "text": [
      "[[0.00000000e+000 3.19391607e-016 1.00000000e+000 0.00000000e+000\n",
      "  0.00000000e+000 0.00000000e+000 0.00000000e+000 0.00000000e+000\n",
      "  0.00000000e+000 0.00000000e+000]\n",
      " [0.00000000e+000 0.00000000e+000 0.00000000e+000 0.00000000e+000\n",
      "  0.00000000e+000 0.00000000e+000 0.00000000e+000 1.40308603e-065\n",
      "  1.64995102e-041 1.00000000e+000]\n",
      " [0.00000000e+000 0.00000000e+000 0.00000000e+000 0.00000000e+000\n",
      "  0.00000000e+000 0.00000000e+000 0.00000000e+000 1.69471782e-058\n",
      "  0.00000000e+000 1.00000000e+000]\n",
      " [9.59026357e-001 4.09271895e-002 4.64536040e-005 0.00000000e+000\n",
      "  0.00000000e+000 0.00000000e+000 0.00000000e+000 0.00000000e+000\n",
      "  0.00000000e+000 0.00000000e+000]\n",
      " [1.00000000e+000 2.05157931e-024 1.65770167e-068 0.00000000e+000\n",
      "  0.00000000e+000 0.00000000e+000 0.00000000e+000 0.00000000e+000\n",
      "  0.00000000e+000 0.00000000e+000]\n",
      " [0.00000000e+000 3.70855660e-194 1.22348451e-045 0.00000000e+000\n",
      "  2.05073695e-018 0.00000000e+000 1.00000000e+000 0.00000000e+000\n",
      "  0.00000000e+000 0.00000000e+000]\n",
      " [0.00000000e+000 8.87424636e-001 1.12575364e-001 0.00000000e+000\n",
      "  0.00000000e+000 0.00000000e+000 0.00000000e+000 0.00000000e+000\n",
      "  0.00000000e+000 0.00000000e+000]\n",
      " [0.00000000e+000 1.00000000e+000 5.22266459e-039 0.00000000e+000\n",
      "  0.00000000e+000 0.00000000e+000 0.00000000e+000 0.00000000e+000\n",
      "  0.00000000e+000 0.00000000e+000]\n",
      " [1.00000000e+000 6.63869450e-023 6.21143358e-069 0.00000000e+000\n",
      "  0.00000000e+000 0.00000000e+000 0.00000000e+000 0.00000000e+000\n",
      "  0.00000000e+000 0.00000000e+000]\n",
      " [0.00000000e+000 0.00000000e+000 0.00000000e+000 0.00000000e+000\n",
      "  1.00000000e+000 0.00000000e+000 1.10137806e-053 0.00000000e+000\n",
      "  0.00000000e+000 0.00000000e+000]\n",
      " [0.00000000e+000 8.91933217e-001 1.08066783e-001 0.00000000e+000\n",
      "  3.81803698e-184 0.00000000e+000 0.00000000e+000 0.00000000e+000\n",
      "  0.00000000e+000 0.00000000e+000]\n",
      " [0.00000000e+000 0.00000000e+000 0.00000000e+000 0.00000000e+000\n",
      "  0.00000000e+000 0.00000000e+000 3.22294073e-039 9.81961700e-001\n",
      "  0.00000000e+000 1.80382999e-002]\n",
      " [0.00000000e+000 0.00000000e+000 0.00000000e+000 0.00000000e+000\n",
      "  0.00000000e+000 0.00000000e+000 0.00000000e+000 0.00000000e+000\n",
      "  4.30959403e-042 1.00000000e+000]\n",
      " [7.49991253e-001 2.43995008e-001 6.01373925e-003 0.00000000e+000\n",
      "  0.00000000e+000 0.00000000e+000 0.00000000e+000 0.00000000e+000\n",
      "  0.00000000e+000 0.00000000e+000]\n",
      " [0.00000000e+000 0.00000000e+000 0.00000000e+000 0.00000000e+000\n",
      "  1.23636320e-037 0.00000000e+000 1.00000000e+000 0.00000000e+000\n",
      "  0.00000000e+000 0.00000000e+000]\n",
      " [0.00000000e+000 1.28792278e-016 1.00000000e+000 0.00000000e+000\n",
      "  5.49348556e-038 0.00000000e+000 0.00000000e+000 0.00000000e+000\n",
      "  0.00000000e+000 0.00000000e+000]\n",
      " [0.00000000e+000 0.00000000e+000 0.00000000e+000 0.00000000e+000\n",
      "  0.00000000e+000 0.00000000e+000 2.10356779e-048 0.00000000e+000\n",
      "  8.92540554e-001 1.07459446e-001]\n",
      " [0.00000000e+000 0.00000000e+000 0.00000000e+000 0.00000000e+000\n",
      "  0.00000000e+000 0.00000000e+000 0.00000000e+000 1.44069419e-101\n",
      "  2.21681104e-003 9.97783189e-001]\n",
      " [0.00000000e+000 0.00000000e+000 0.00000000e+000 0.00000000e+000\n",
      "  0.00000000e+000 0.00000000e+000 0.00000000e+000 1.70897638e-006\n",
      "  4.74271276e-083 9.99998291e-001]\n",
      " [1.00000000e+000 5.40209626e-045 1.68701565e-093 0.00000000e+000\n",
      "  0.00000000e+000 0.00000000e+000 0.00000000e+000 0.00000000e+000\n",
      "  0.00000000e+000 0.00000000e+000]\n",
      " [0.00000000e+000 0.00000000e+000 0.00000000e+000 0.00000000e+000\n",
      "  0.00000000e+000 0.00000000e+000 0.00000000e+000 0.00000000e+000\n",
      "  0.00000000e+000 1.00000000e+000]]\n"
     ]
    }
   ],
   "source": [
    "posterior = model.infer_labels(aiAnnoA)\n",
    "print(posterior)"
   ]
  },
  {
   "cell_type": "code",
   "execution_count": 221,
   "metadata": {},
   "outputs": [],
   "source": [
    "votes = []\n",
    "for r in aiAnnoA:\n",
    "    v = [0] * len(aiAnno.labels)\n",
    "    votes.append(v)\n",
    "    for a in r:\n",
    "        if a > -1:\n",
    "            v[a] += 1\n",
    "votes_array = np.array(votes)"
   ]
  },
  {
   "cell_type": "code",
   "execution_count": 222,
   "metadata": {},
   "outputs": [
    {
     "data": {
      "image/png": "[encoded data removed]",
      "text/plain": [
       "<Figure size 1080x720 with 4 Axes>"
      ]
     },
     "metadata": {
      "needs_background": "light"
     },
     "output_type": "display_data"
    }
   ],
   "source": [
    "fig, (ax1, ax2) = plt.subplots(ncols=2, figsize = (15, 10), sharey=True)\n",
    "num_questions = 20\n",
    "\n",
    "seaborn.heatmap(votes_array[:num_questions], annot = True, ax=ax2)\n",
    "seaborn.heatmap(posterior[:num_questions], annot=True, ax =ax1)\n",
    "ax1.set_title(\"Model\")\n",
    "ax2.set_title(\"Votes\")\n",
    "plt.show()"
   ]
  },
  {
   "cell_type": "code",
   "execution_count": 227,
   "metadata": {},
   "outputs": [],
   "source": [
    "samples = model.sample_posterior_over_accuracy(aiAnnoA, 200, burn_in_samples=100, thin_samples=3)"
   ]
  },
  {
   "cell_type": "code",
   "execution_count": 228,
   "metadata": {},
   "outputs": [
    {
     "name": "stdout",
     "output_type": "stream",
     "text": [
      "[[[0.48809091 0.19256955 0.09755668 0.03098119 0.02703348 0.025737\n",
      "   0.03903427 0.04201365 0.02832382 0.02865948]\n",
      "  [0.13064665 0.49208223 0.11840142 0.07116666 0.02731724 0.03044077\n",
      "   0.0322706  0.03576805 0.028503   0.03340337]\n",
      "  [0.06718022 0.13288822 0.46467136 0.12406424 0.05628909 0.02775317\n",
      "   0.03501335 0.03096622 0.02948462 0.03168951]\n",
      "  [0.03194885 0.06284776 0.11979633 0.48642344 0.11917282 0.05940126\n",
      "   0.03042843 0.02962176 0.03053425 0.02982512]\n",
      "  [0.02854512 0.04004301 0.06376793 0.1071238  0.49294579 0.11198868\n",
      "   0.07192404 0.02761593 0.02834911 0.02769658]\n",
      "  [0.02629178 0.03056608 0.02710882 0.05617964 0.12860389 0.47868458\n",
      "   0.12618553 0.06738807 0.03084687 0.02814475]\n",
      "  [0.02625089 0.04062985 0.02854815 0.03283843 0.05748932 0.11753413\n",
      "   0.483203   0.12439859 0.06051566 0.02859198]\n",
      "  [0.02582086 0.0316533  0.02897858 0.02928063 0.03161566 0.07539819\n",
      "   0.12617605 0.46971382 0.12121254 0.06015035]\n",
      "  [0.03076395 0.03591791 0.03042303 0.03108989 0.03033632 0.03582163\n",
      "   0.05578578 0.12856408 0.50162952 0.11966789]\n",
      "  [0.02887316 0.04237948 0.02814744 0.02878888 0.02770095 0.05447752\n",
      "   0.02894913 0.0875829  0.18568685 0.48741369]]\n",
      "\n",
      " [[0.58436615 0.13199576 0.07393147 0.02348761 0.02949753 0.03007324\n",
      "   0.03905955 0.0312098  0.02601834 0.03036055]\n",
      "  [0.13566017 0.50372167 0.12694637 0.05634329 0.02833296 0.03066683\n",
      "   0.03274701 0.0283309  0.02747873 0.02977207]\n",
      "  [0.05630534 0.13908764 0.48731339 0.11526421 0.05689211 0.0271641\n",
      "   0.03050962 0.03025204 0.03127335 0.02593819]\n",
      "  [0.03215459 0.07113481 0.12488143 0.47497415 0.11871083 0.05501008\n",
      "   0.03127048 0.02855901 0.03303888 0.03026572]\n",
      "  [0.03005647 0.03298077 0.06171667 0.11767373 0.46321394 0.1109352\n",
      "   0.07393361 0.05108621 0.0279565  0.03044692]\n",
      "  [0.02549135 0.03155157 0.03171039 0.06073082 0.12029248 0.48147277\n",
      "   0.12326394 0.06427639 0.03068099 0.03052931]\n",
      "  [0.02743605 0.03119643 0.02953959 0.03176863 0.05826087 0.1197221\n",
      "   0.49348785 0.11439916 0.06135103 0.03283828]\n",
      "  [0.02866119 0.03378468 0.02744434 0.03033291 0.03036299 0.06467784\n",
      "   0.12060718 0.46333356 0.13741404 0.06338129]\n",
      "  [0.02991413 0.03032328 0.02951929 0.0320218  0.03147323 0.02902225\n",
      "   0.06074898 0.11979991 0.50540878 0.13176835]\n",
      "  [0.03381764 0.02826188 0.03061721 0.0284148  0.02583925 0.03019287\n",
      "   0.03345143 0.05797567 0.12689416 0.60453509]]\n",
      "\n",
      " [[0.45181508 0.14327468 0.0875654  0.03837711 0.02749396 0.05669552\n",
      "   0.05318232 0.08774533 0.02727751 0.02657309]\n",
      "  [0.11844386 0.49388896 0.12464474 0.06436282 0.02665667 0.02834719\n",
      "   0.0498428  0.03616383 0.02836236 0.02928677]\n",
      "  [0.05812335 0.11213683 0.47352755 0.12396288 0.05637185 0.0317671\n",
      "   0.05524917 0.03249703 0.02769637 0.02866786]\n",
      "  [0.03038092 0.06136934 0.1247676  0.48579294 0.11910892 0.06495802\n",
      "   0.02794823 0.03062038 0.02805423 0.02699941]\n",
      "  [0.02615069 0.029148   0.06524784 0.11159236 0.46670272 0.12005918\n",
      "   0.07224869 0.02869738 0.02910323 0.05104991]\n",
      "  [0.03241732 0.02755448 0.02857384 0.06336541 0.12280988 0.47846408\n",
      "   0.12374468 0.06308893 0.0313389  0.02864248]\n",
      "  [0.02827466 0.03354657 0.0359054  0.02954824 0.05497163 0.11548395\n",
      "   0.48861187 0.12209357 0.05767905 0.03388506]\n",
      "  [0.03029621 0.03592004 0.02957532 0.04605151 0.02973497 0.05918194\n",
      "   0.12604895 0.47592688 0.10738085 0.05988334]\n",
      "  [0.03270282 0.0430389  0.0259637  0.03645865 0.0341828  0.03040531\n",
      "   0.06105807 0.12927949 0.49064734 0.11626293]\n",
      "  [0.05322045 0.06553471 0.02884999 0.06463902 0.07519605 0.02907415\n",
      "   0.02708276 0.07088481 0.11301109 0.47250698]]\n",
      "\n",
      " [[0.52196857 0.16910735 0.06207577 0.03715417 0.05736853 0.03306211\n",
      "   0.03087487 0.03035549 0.02727238 0.03076077]\n",
      "  [0.12292275 0.50054907 0.12086075 0.06447249 0.04376658 0.02853953\n",
      "   0.03058085 0.03093927 0.02852244 0.02884627]\n",
      "  [0.07543048 0.13465709 0.45360537 0.12830834 0.06610895 0.02896235\n",
      "   0.0286547  0.02933568 0.02792352 0.02701353]\n",
      "  [0.03036751 0.06114901 0.12335447 0.48020386 0.12421035 0.05880423\n",
      "   0.03614938 0.02869625 0.02779537 0.02926956]\n",
      "  [0.03853442 0.02963994 0.05849543 0.11292867 0.50776786 0.11546168\n",
      "   0.05640231 0.02656497 0.02810556 0.02609915]\n",
      "  [0.03242895 0.0324579  0.03028617 0.05869032 0.11829329 0.48210353\n",
      "   0.11753664 0.06546525 0.03099404 0.03174392]\n",
      "  [0.03974922 0.02852648 0.02973115 0.02963573 0.0717698  0.10780584\n",
      "   0.48660582 0.12131117 0.05820638 0.0266584 ]\n",
      "  [0.02883507 0.02983181 0.03471586 0.02686629 0.03600415 0.06362058\n",
      "   0.12056325 0.48538866 0.11508157 0.05909276]\n",
      "  [0.03385243 0.03163478 0.04085685 0.03019317 0.04736523 0.02946068\n",
      "   0.05833649 0.12879363 0.47864965 0.12085708]\n",
      "  [0.02697114 0.03157846 0.04307384 0.02792804 0.06751811 0.0297204\n",
      "   0.05132012 0.08944108 0.11465286 0.51779596]]\n",
      "\n",
      " [[0.58019174 0.13492445 0.06237894 0.02549026 0.05215209 0.02841245\n",
      "   0.02990904 0.02625522 0.03121533 0.02907047]\n",
      "  [0.14033353 0.47746467 0.13260443 0.05718764 0.04136279 0.02878498\n",
      "   0.02662225 0.03182834 0.03323308 0.03057829]\n",
      "  [0.06744755 0.11845049 0.46822815 0.11473711 0.08845548 0.02996411\n",
      "   0.02971338 0.02956898 0.02980346 0.02363129]\n",
      "  [0.03365676 0.05669305 0.12255099 0.48268372 0.12830246 0.05354202\n",
      "   0.0279708  0.03063886 0.03219936 0.03176197]\n",
      "  [0.03165114 0.02686698 0.0560168  0.11315235 0.50645968 0.11521096\n",
      "   0.05973428 0.0295355  0.02700761 0.03436471]\n",
      "  [0.03001672 0.02570013 0.02458074 0.06226179 0.12415213 0.48945732\n",
      "   0.12151228 0.05978608 0.03077321 0.0317596 ]\n",
      "  [0.03533857 0.02828099 0.03105497 0.02957791 0.08081013 0.11769493\n",
      "   0.46884342 0.1229172  0.05610899 0.0293729 ]\n",
      "  [0.03075072 0.02916184 0.03155144 0.03483701 0.03320192 0.05849344\n",
      "   0.11393894 0.47871421 0.12650637 0.06284411]\n",
      "  [0.03157311 0.03273428 0.02992433 0.02748531 0.03096629 0.03236503\n",
      "   0.06511065 0.13134412 0.49396859 0.12452831]\n",
      "  [0.03031939 0.03026189 0.02735384 0.03144958 0.03391399 0.03113485\n",
      "   0.02651367 0.0712442  0.13035652 0.58745205]]\n",
      "\n",
      " [[0.5464073  0.13920853 0.06952609 0.03578441 0.03413686 0.03713807\n",
      "   0.03421346 0.03669483 0.03102085 0.0358696 ]\n",
      "  [0.12610709 0.49951036 0.12419491 0.06372783 0.03113088 0.03116222\n",
      "   0.02929189 0.03115741 0.02929587 0.03442153]\n",
      "  [0.06250857 0.120393   0.48823892 0.11352999 0.06261107 0.03090424\n",
      "   0.03254208 0.02821287 0.03122679 0.02983246]\n",
      "  [0.02774805 0.0628161  0.12739561 0.48021423 0.12037008 0.05642737\n",
      "   0.03346096 0.03037571 0.03118059 0.03001131]\n",
      "  [0.03190486 0.02786294 0.05737796 0.12116284 0.48188746 0.12364524\n",
      "   0.05746103 0.03265442 0.03303548 0.03300778]\n",
      "  [0.02615202 0.03136935 0.03152343 0.06055779 0.11385484 0.49171583\n",
      "   0.12294666 0.05687116 0.03533062 0.0296783 ]\n",
      "  [0.03059876 0.03538812 0.03103227 0.03084342 0.05961802 0.12050214\n",
      "   0.48020677 0.12267694 0.06029736 0.0288362 ]\n",
      "  [0.0335763  0.03242612 0.03219953 0.03111529 0.02958665 0.0552018\n",
      "   0.12540419 0.47879005 0.11879292 0.06290716]\n",
      "  [0.02910239 0.032085   0.02957947 0.03256996 0.02943321 0.02866651\n",
      "   0.06547482 0.12231678 0.50746074 0.12331111]\n",
      "  [0.03469886 0.03350774 0.03823998 0.03691151 0.03246233 0.0345724\n",
      "   0.03444128 0.0685595  0.1342041  0.5524023 ]]\n",
      "\n",
      " [[0.55498191 0.13906748 0.0648891  0.03569809 0.03085099 0.03066432\n",
      "   0.03959453 0.03536565 0.03247218 0.03641574]\n",
      "  [0.12507544 0.49709604 0.12550402 0.06496558 0.02829493 0.03289262\n",
      "   0.03195187 0.03058148 0.03077266 0.03286535]\n",
      "  [0.06269253 0.12543651 0.4703419  0.12090402 0.06774725 0.02964943\n",
      "   0.03006921 0.03172548 0.02990058 0.03153308]\n",
      "  [0.03440344 0.06353914 0.12494153 0.47790638 0.11906266 0.05718189\n",
      "   0.02823319 0.03036919 0.03166944 0.03269314]\n",
      "  [0.03230285 0.02905582 0.06389909 0.12004317 0.47534404 0.12172938\n",
      "   0.06383213 0.02747802 0.03469223 0.03162327]\n",
      "  [0.03032457 0.03571104 0.0303722  0.06350849 0.1126724  0.48851921\n",
      "   0.12196727 0.06172399 0.02486284 0.030338  ]\n",
      "  [0.03014657 0.02693984 0.02973397 0.03230746 0.05917759 0.12583671\n",
      "   0.48165946 0.12114083 0.06433343 0.02872415]\n",
      "  [0.03211716 0.03306316 0.02999665 0.02877793 0.03047221 0.05911548\n",
      "   0.1242143  0.48240285 0.12526585 0.0545744 ]\n",
      "  [0.02978671 0.03164325 0.03054161 0.03035057 0.03231733 0.03084625\n",
      "   0.06509858 0.12540927 0.50271946 0.12128698]\n",
      "  [0.03096425 0.03248579 0.03365349 0.03700285 0.03609217 0.03630874\n",
      "   0.03025558 0.06781169 0.14037576 0.55504968]]\n",
      "\n",
      " [[0.55184155 0.13758361 0.06836204 0.0345002  0.0360509  0.03403728\n",
      "   0.03206582 0.03300284 0.03438343 0.03817232]\n",
      "  [0.12473512 0.5020308  0.12823199 0.06160094 0.03278208 0.03254796\n",
      "   0.03034154 0.02696261 0.02987055 0.0308964 ]\n",
      "  [0.05982793 0.12546163 0.48211384 0.12031188 0.06176903 0.02968088\n",
      "   0.03082571 0.02920423 0.03105515 0.02974972]\n",
      "  [0.03103122 0.06136536 0.12556679 0.48656523 0.12055203 0.05750194\n",
      "   0.0295526  0.02860054 0.02873581 0.03052848]\n",
      "  [0.02837349 0.03042844 0.05671583 0.13056634 0.48041553 0.11620629\n",
      "   0.06301784 0.03345112 0.02910986 0.03171527]\n",
      "  [0.02719159 0.02675264 0.02981187 0.06249602 0.12151731 0.47863376\n",
      "   0.13517371 0.06151286 0.03040465 0.0265056 ]\n",
      "  [0.0310407  0.03081763 0.02991387 0.03023541 0.0581452  0.11836274\n",
      "   0.48211298 0.12651107 0.06165511 0.03120529]\n",
      "  [0.027259   0.02916953 0.02843424 0.03195996 0.03216478 0.05334506\n",
      "   0.11977449 0.49618062 0.12522729 0.05648502]\n",
      "  [0.03002095 0.03714218 0.02996816 0.03178211 0.03081167 0.03278309\n",
      "   0.06707929 0.1274616  0.49543579 0.11751514]\n",
      "  [0.02991547 0.03447745 0.03440197 0.0338407  0.03696789 0.03506331\n",
      "   0.04009843 0.07068564 0.13385119 0.55069796]]]\n",
      "[[[0.08492749 0.06742178 0.05619951 0.03050248 0.02833951 0.02589127\n",
      "   0.03588862 0.03756911 0.02542598 0.02681265]\n",
      "  [0.058455   0.0897071  0.05476915 0.04381142 0.02853372 0.0297983\n",
      "   0.02901268 0.03199329 0.02540551 0.02980003]\n",
      "  [0.04268501 0.05758169 0.08166006 0.05484058 0.03490404 0.02647333\n",
      "   0.03391474 0.02973176 0.03063644 0.03251581]\n",
      "  [0.02829721 0.04260449 0.05483899 0.08413945 0.05440329 0.0379957\n",
      "   0.02851058 0.02810233 0.029975   0.03080999]\n",
      "  [0.03056927 0.03298323 0.04176165 0.05266903 0.08395116 0.0523223\n",
      "   0.04561001 0.02922082 0.0252745  0.02890665]\n",
      "  [0.02443091 0.02861639 0.02299197 0.03635273 0.06100707 0.08517485\n",
      "   0.05635565 0.04219974 0.02950399 0.02888719]\n",
      "  [0.0264715  0.03592081 0.02837065 0.03552585 0.04201849 0.0529992\n",
      "   0.08296403 0.06131607 0.03752925 0.02692187]\n",
      "  [0.02306345 0.03022848 0.03227198 0.0282021  0.02993374 0.04585877\n",
      "   0.05613607 0.08647299 0.05903742 0.04042597]\n",
      "  [0.02802123 0.03042109 0.03044318 0.03176556 0.02726815 0.03552625\n",
      "   0.03655162 0.05274929 0.08288281 0.05612252]\n",
      "  [0.02785294 0.03521526 0.02707125 0.02961475 0.02378856 0.04123844\n",
      "   0.02677538 0.04594808 0.07858001 0.09174852]]\n",
      "\n",
      " [[0.08820129 0.05779106 0.04755419 0.02231052 0.02667214 0.02747937\n",
      "   0.03255916 0.02777246 0.02418121 0.0270366 ]\n",
      "  [0.05598437 0.08612294 0.06010268 0.03586824 0.02810398 0.0333552\n",
      "   0.02830766 0.02759297 0.02606887 0.02962328]\n",
      "  [0.04021464 0.0570439  0.08242465 0.05028616 0.03843236 0.02667323\n",
      "   0.02982447 0.02787691 0.03029383 0.02435779]\n",
      "  [0.03097327 0.04487138 0.05268393 0.08644008 0.06053032 0.03702434\n",
      "   0.02883325 0.02504008 0.02997256 0.03135491]\n",
      "  [0.02604932 0.03130572 0.04144672 0.05230152 0.07976867 0.04764801\n",
      "   0.04896299 0.03597204 0.03089479 0.03094326]\n",
      "  [0.02426113 0.02982033 0.03027317 0.0400419  0.05538386 0.08477453\n",
      "   0.05102449 0.04431479 0.03154391 0.02945483]\n",
      "  [0.02440343 0.02588819 0.02881353 0.0310432  0.03624815 0.05729995\n",
      "   0.09102948 0.05577568 0.0419967  0.02923969]\n",
      "  [0.02844241 0.03645517 0.02618646 0.02864287 0.02771097 0.04181127\n",
      "   0.05637623 0.08253952 0.05887187 0.04824308]\n",
      "  [0.03005549 0.03189346 0.0282331  0.03230558 0.03238786 0.03008101\n",
      "   0.04206541 0.05308619 0.09138061 0.06236072]\n",
      "  [0.03260735 0.02620381 0.03068162 0.02797137 0.02306226 0.0284884\n",
      "   0.03082163 0.04053143 0.05681565 0.08312025]]\n",
      "\n",
      " [[0.08306011 0.06156604 0.05202962 0.03724257 0.02855016 0.03948505\n",
      "   0.04182641 0.04772648 0.02691106 0.02795595]\n",
      "  [0.04822325 0.0895283  0.05913215 0.03756808 0.02767055 0.02714274\n",
      "   0.04251746 0.03373337 0.02647087 0.02952091]\n",
      "  [0.03970922 0.05158303 0.08043477 0.05592568 0.0348717  0.03142211\n",
      "   0.0465156  0.0323567  0.02597518 0.02980626]\n",
      "  [0.03339313 0.03994858 0.05981912 0.09267182 0.05885295 0.04792726\n",
      "   0.02584508 0.03029013 0.02586527 0.02400246]\n",
      "  [0.02424046 0.02960621 0.04583695 0.05072334 0.08520748 0.05849784\n",
      "   0.04626513 0.02775858 0.03075929 0.04067537]\n",
      "  [0.0288477  0.0258941  0.02828305 0.04418425 0.05845072 0.08568106\n",
      "   0.06047342 0.04214854 0.031601   0.02514437]\n",
      "  [0.02572296 0.03207187 0.03386783 0.02608485 0.03805469 0.05771614\n",
      "   0.08423311 0.05714112 0.04003873 0.030359  ]\n",
      "  [0.03012011 0.03193108 0.03046478 0.03660708 0.03116629 0.03810196\n",
      "   0.05960258 0.08650372 0.05546939 0.0431035 ]\n",
      "  [0.03385694 0.03915637 0.02534277 0.03603859 0.03038186 0.03025258\n",
      "   0.03941064 0.06211127 0.09084704 0.05375711]\n",
      "  [0.04393553 0.04081207 0.02903815 0.03895295 0.04594586 0.02795359\n",
      "   0.0263586  0.04341546 0.05150622 0.08151336]]\n",
      "\n",
      " [[0.09092448 0.06523184 0.04007751 0.03440369 0.04631675 0.030163\n",
      "   0.02767982 0.02857519 0.02591596 0.02896468]\n",
      "  [0.05723007 0.08277337 0.05721328 0.04397182 0.0406488  0.02589201\n",
      "   0.03075955 0.02921529 0.02625825 0.02857463]\n",
      "  [0.04555401 0.05795721 0.08672205 0.05996537 0.04229331 0.02964417\n",
      "   0.0290308  0.02986161 0.02628418 0.02446071]\n",
      "  [0.03166275 0.04072266 0.0576751  0.08410437 0.06053771 0.03635213\n",
      "   0.03468514 0.02673013 0.02645164 0.02801895]\n",
      "  [0.03891129 0.02693894 0.03809849 0.04775269 0.08143461 0.05250303\n",
      "   0.03273101 0.02814693 0.02801661 0.02809658]\n",
      "  [0.03167759 0.02822527 0.03208615 0.03861168 0.05831382 0.07917981\n",
      "   0.05297096 0.04371314 0.02978144 0.03080151]\n",
      "  [0.03300327 0.02876797 0.03133703 0.02807186 0.04324007 0.05164814\n",
      "   0.0857793  0.05901556 0.04004844 0.02303811]\n",
      "  [0.02413397 0.03238246 0.03312874 0.02534923 0.03438443 0.04370787\n",
      "   0.0557855  0.08957073 0.05608367 0.04334316]\n",
      "  [0.02980503 0.03128425 0.03370366 0.02843748 0.0450824  0.03162287\n",
      "   0.03843632 0.0601681  0.08704412 0.05456943]\n",
      "  [0.02735109 0.0294394  0.03532508 0.02683602 0.04335594 0.02727845\n",
      "   0.03866931 0.04914221 0.05241859 0.08495223]]\n",
      "\n",
      " [[0.08265062 0.05583453 0.03970658 0.02332369 0.04537141 0.02692783\n",
      "   0.03256534 0.02719287 0.03123976 0.02616849]\n",
      "  [0.05481536 0.08987411 0.06103716 0.03613085 0.03610223 0.02443704\n",
      "   0.02589538 0.0332523  0.03335197 0.03293319]\n",
      "  [0.04126507 0.05678012 0.08714983 0.0499138  0.05632305 0.03048234\n",
      "   0.03264626 0.02660767 0.02801387 0.02186877]\n",
      "  [0.03227276 0.03498896 0.05543039 0.09240426 0.0631405  0.03776347\n",
      "   0.02799346 0.02761245 0.03145767 0.03175394]\n",
      "  [0.03783577 0.0264102  0.03650213 0.05067962 0.09244877 0.05803816\n",
      "   0.0426569  0.02974169 0.02817339 0.03284858]\n",
      "  [0.02816007 0.02505746 0.02436702 0.03807887 0.05776649 0.08573444\n",
      "   0.05383719 0.03718235 0.02869618 0.02757445]\n",
      "  [0.03400947 0.0299078  0.02953321 0.0270601  0.04761777 0.05040808\n",
      "   0.0782869  0.05451303 0.03743476 0.02532789]\n",
      "  [0.03094183 0.02798692 0.03009999 0.03127378 0.03215628 0.0356422\n",
      "   0.05313258 0.08347167 0.05685986 0.04316934]\n",
      "  [0.03112598 0.03578844 0.02660573 0.02839867 0.03495895 0.02935788\n",
      "   0.04115194 0.0613947  0.09601289 0.06006394]\n",
      "  [0.02971654 0.02576647 0.02751794 0.02872524 0.03347301 0.03058879\n",
      "   0.02333237 0.04513893 0.06062281 0.0818217 ]]\n",
      "\n",
      " [[0.09721355 0.06669124 0.0516492  0.0364717  0.03345188 0.0357298\n",
      "   0.03267942 0.03840908 0.02898256 0.03452323]\n",
      "  [0.05769541 0.07704562 0.05983913 0.03944739 0.03394458 0.03045761\n",
      "   0.03145855 0.03057652 0.02681824 0.03050824]\n",
      "  [0.04048644 0.05836496 0.0896018  0.05391404 0.04214123 0.02893355\n",
      "   0.02784937 0.02854253 0.02966083 0.03105983]\n",
      "  [0.03002736 0.04083206 0.06000472 0.08706603 0.05820208 0.03516413\n",
      "   0.03228373 0.03192744 0.02793469 0.02648039]\n",
      "  [0.031328   0.02528229 0.0363905  0.05199012 0.07959228 0.05665646\n",
      "   0.0388316  0.02922846 0.03190859 0.0301631 ]\n",
      "  [0.02503478 0.03024257 0.03147368 0.04274359 0.05151313 0.08839951\n",
      "   0.05027157 0.03812121 0.03717964 0.02805933]\n",
      "  [0.02890369 0.03185587 0.02959309 0.02979059 0.0384835  0.05378605\n",
      "   0.07993304 0.05954057 0.04130029 0.02611408]\n",
      "  [0.03164626 0.03324371 0.03129352 0.02999137 0.02584499 0.03710068\n",
      "   0.05817601 0.07905552 0.05689053 0.04319172]\n",
      "  [0.03013102 0.03130457 0.03047545 0.02755307 0.02869176 0.03016759\n",
      "   0.04330549 0.05433775 0.08470657 0.05609793]\n",
      "  [0.03131631 0.03276001 0.03609731 0.03687301 0.03363253 0.03562367\n",
      "   0.03309322 0.04395673 0.05893715 0.08786857]]\n",
      "\n",
      " [[0.09873428 0.06169202 0.04708591 0.02938943 0.03045472 0.03026908\n",
      "   0.03770365 0.03608375 0.03029492 0.03183059]\n",
      "  [0.05302179 0.08394878 0.05834775 0.04236238 0.02482974 0.03220259\n",
      "   0.0314658  0.03092906 0.02924313 0.03478396]\n",
      "  [0.04206917 0.06043855 0.08530944 0.05205668 0.0400525  0.02708358\n",
      "   0.03063837 0.03084428 0.03158778 0.02826886]\n",
      "  [0.03292563 0.04396738 0.05839939 0.09447003 0.05571525 0.03758053\n",
      "   0.02734894 0.02747809 0.02731995 0.02944091]\n",
      "  [0.02955213 0.02421383 0.04085524 0.0564577  0.08432611 0.05188414\n",
      "   0.04344454 0.02619164 0.03260139 0.03460874]\n",
      "  [0.0280213  0.03017176 0.02709764 0.0440765  0.050545   0.08619274\n",
      "   0.0524498  0.04018458 0.02551127 0.02941212]\n",
      "  [0.02779421 0.0255207  0.02802305 0.02656673 0.03782334 0.05867173\n",
      "   0.0829985  0.05180326 0.04394953 0.02699073]\n",
      "  [0.03080049 0.03356485 0.02751301 0.02631998 0.02672045 0.04170662\n",
      "   0.05554925 0.08689395 0.06106957 0.03590206]\n",
      "  [0.02920051 0.03114124 0.03279921 0.0270821  0.03271919 0.02660993\n",
      "   0.04112189 0.05523278 0.08651651 0.05634137]\n",
      "  [0.03032673 0.03353464 0.034715   0.03578622 0.0337301  0.031833\n",
      "   0.02828323 0.04546395 0.06920082 0.09080063]]\n",
      "\n",
      " [[0.08708169 0.05557659 0.04512477 0.03253761 0.0315994  0.03309226\n",
      "   0.02962243 0.03270277 0.03393247 0.03637956]\n",
      "  [0.05651041 0.07902473 0.05168099 0.04151183 0.03163583 0.03332341\n",
      "   0.02670601 0.02655211 0.0293017  0.02996475]\n",
      "  [0.03659891 0.05759663 0.08241229 0.05650422 0.04721218 0.02858387\n",
      "   0.02689638 0.0275793  0.02616763 0.02717005]\n",
      "  [0.02948473 0.04181298 0.05434665 0.08197976 0.05246741 0.03963852\n",
      "   0.03033487 0.02906106 0.02826808 0.034244  ]\n",
      "  [0.02877405 0.02716707 0.03830827 0.05925455 0.08614522 0.05990422\n",
      "   0.04284027 0.03165334 0.02632451 0.02802159]\n",
      "  [0.02528476 0.02397323 0.03140988 0.04330112 0.05692118 0.08862568\n",
      "   0.06015415 0.04177908 0.03056059 0.02659204]\n",
      "  [0.03412483 0.02987408 0.02986838 0.02838997 0.04036882 0.05122656\n",
      "   0.08449493 0.05512104 0.03810133 0.03154853]\n",
      "  [0.02582444 0.02914117 0.02779011 0.03287567 0.03044661 0.03365591\n",
      "   0.05657445 0.08916482 0.05945972 0.0386528 ]\n",
      "  [0.02792294 0.03398407 0.03005066 0.02914517 0.03002841 0.03462007\n",
      "   0.04403487 0.06095517 0.08948223 0.05601336]\n",
      "  [0.02980687 0.03248137 0.03611218 0.03409565 0.0362409  0.0325166\n",
      "   0.03845126 0.0490612  0.06237427 0.09346323]]]\n"
     ]
    }
   ],
   "source": [
    "print(samples[0].mean(axis=0))\n",
    "print(samples[0].std(axis=0))"
   ]
  },
  {
   "cell_type": "code",
   "execution_count": 232,
   "metadata": {},
   "outputs": [
    {
     "name": "stdout",
     "output_type": "stream",
     "text": [
      "[0.8945392  0.8303002  0.76779994 0.83689172 0.64066622 0.73830309\n",
      " 0.93475278 0.76195302]\n",
      "-347.9253468332708\n"
     ]
    }
   ],
   "source": [
    "# create a new instance of model B, with 4 label classes and 8 annotators.\n",
    "model = ModelBt.create_initial_state(21, 8)\n",
    "print(model.theta)\n",
    "print(model.log_likelihood(aiAnnoA))"
   ]
  },
  {
   "cell_type": "code",
   "execution_count": 234,
   "metadata": {},
   "outputs": [
    {
     "name": "stdout",
     "output_type": "stream",
     "text": [
      "[0.60260455 0.70178727 0.79889161 0.63649285 0.77639748 0.6718733\n",
      " 0.91592853 0.61772503]\n",
      "-306.236673039738\n"
     ]
    }
   ],
   "source": [
    "model.map(aiAnnoA)\n",
    "print(model.theta)\n",
    "print(model.log_likelihood(aiAnnoA))"
   ]
  },
  {
   "cell_type": "code",
   "execution_count": 235,
   "metadata": {},
   "outputs": [
    {
     "name": "stdout",
     "output_type": "stream",
     "text": [
      "[[1.78197141e-01 2.32882525e-01 2.21124973e-01 5.41487187e-02\n",
      "  3.00658205e-01 9.27745520e-04 2.47398805e-03 3.09248507e-03\n",
      "  1.85549104e-03 4.63872760e-03 0.00000000e+00 0.00000000e+00\n",
      "  0.00000000e+00 0.00000000e+00 0.00000000e+00 0.00000000e+00\n",
      "  0.00000000e+00 0.00000000e+00 0.00000000e+00 0.00000000e+00\n",
      "  0.00000000e+00]\n",
      " [3.74518944e-04 3.15384374e-04 1.77403711e-04 9.85576169e-05\n",
      "  2.19248130e-02 5.91345702e-05 1.57692187e-04 6.90288692e-03\n",
      "  3.58683138e-03 9.66402777e-01 0.00000000e+00 0.00000000e+00\n",
      "  0.00000000e+00 0.00000000e+00 0.00000000e+00 0.00000000e+00\n",
      "  0.00000000e+00 0.00000000e+00 0.00000000e+00 0.00000000e+00\n",
      "  0.00000000e+00]\n",
      " [2.96171968e-02 3.13922657e-04 1.76581495e-04 9.81008303e-05\n",
      "  2.74682325e-04 1.78510372e-03 5.49671520e-03 1.96201661e-04\n",
      "  1.17720996e-04 9.61923774e-01 0.00000000e+00 0.00000000e+00\n",
      "  0.00000000e+00 0.00000000e+00 0.00000000e+00 0.00000000e+00\n",
      "  0.00000000e+00 0.00000000e+00 0.00000000e+00 0.00000000e+00\n",
      "  0.00000000e+00]\n",
      " [9.82550657e-01 1.74177172e-02 4.06617971e-06 2.25898873e-06\n",
      "  6.32516844e-06 1.35539324e-06 3.61438196e-06 4.51797745e-06\n",
      "  2.71078647e-06 6.77696618e-06 0.00000000e+00 0.00000000e+00\n",
      "  0.00000000e+00 0.00000000e+00 0.00000000e+00 0.00000000e+00\n",
      "  0.00000000e+00 0.00000000e+00 0.00000000e+00 0.00000000e+00\n",
      "  0.00000000e+00]\n",
      " [9.99478633e-01 7.35330544e-06 1.25442486e-04 2.29790795e-06\n",
      "  6.43414226e-06 1.37874477e-06 3.67665272e-06 3.65132336e-04\n",
      "  2.75748954e-06 6.89372385e-06 0.00000000e+00 0.00000000e+00\n",
      "  0.00000000e+00 0.00000000e+00 0.00000000e+00 0.00000000e+00\n",
      "  0.00000000e+00 0.00000000e+00 0.00000000e+00 0.00000000e+00\n",
      "  0.00000000e+00]\n",
      " [2.94510264e-04 7.52153251e-03 1.39504862e-04 7.75027010e-05\n",
      "  5.27743451e-01 4.65016206e-05 4.63696480e-01 1.55005402e-04\n",
      "  9.30032412e-05 2.32508103e-04 0.00000000e+00 0.00000000e+00\n",
      "  0.00000000e+00 0.00000000e+00 0.00000000e+00 0.00000000e+00\n",
      "  0.00000000e+00 0.00000000e+00 0.00000000e+00 0.00000000e+00\n",
      "  0.00000000e+00]\n",
      " [6.82200873e-04 9.46887816e-01 2.24408133e-02 5.44462778e-03\n",
      "  5.02674327e-04 1.07715927e-04 2.28210871e-02 3.59053091e-04\n",
      "  2.15431855e-04 5.38579636e-04 0.00000000e+00 0.00000000e+00\n",
      "  0.00000000e+00 0.00000000e+00 0.00000000e+00 0.00000000e+00\n",
      "  0.00000000e+00 0.00000000e+00 0.00000000e+00 0.00000000e+00\n",
      "  0.00000000e+00]\n",
      " [3.72761691e-01 2.12749990e-01 2.54262766e-03 1.41257092e-03\n",
      "  1.38509277e-01 8.47542554e-04 1.79563440e-01 8.56800633e-02\n",
      "  1.69508511e-03 4.23771277e-03 0.00000000e+00 0.00000000e+00\n",
      "  0.00000000e+00 0.00000000e+00 0.00000000e+00 0.00000000e+00\n",
      "  0.00000000e+00 0.00000000e+00 0.00000000e+00 0.00000000e+00\n",
      "  0.00000000e+00]\n",
      " [7.76763336e-01 2.12548708e-01 1.12572136e-04 6.25400755e-05\n",
      "  1.75112211e-04 3.75240453e-05 1.00064121e-04 9.93747544e-03\n",
      "  7.50480905e-05 1.87620226e-04 0.00000000e+00 0.00000000e+00\n",
      "  0.00000000e+00 0.00000000e+00 0.00000000e+00 0.00000000e+00\n",
      "  0.00000000e+00 0.00000000e+00 0.00000000e+00 0.00000000e+00\n",
      "  0.00000000e+00]\n",
      " [1.83701079e-05 1.54695645e-05 8.70163005e-06 4.83423892e-06\n",
      "  9.98328905e-01 2.90054335e-06 7.73478227e-06 4.55058691e-04\n",
      "  5.80108670e-06 1.15222432e-03 0.00000000e+00 0.00000000e+00\n",
      "  0.00000000e+00 0.00000000e+00 0.00000000e+00 0.00000000e+00\n",
      "  0.00000000e+00 0.00000000e+00 0.00000000e+00 0.00000000e+00\n",
      "  0.00000000e+00]\n",
      " [4.17836335e-01 1.53664905e-01 1.34142688e-01 1.25797748e-01\n",
      "  1.55257931e-01 9.50028084e-04 2.53340822e-03 3.16676028e-03\n",
      "  1.90005617e-03 4.75014042e-03 0.00000000e+00 0.00000000e+00\n",
      "  0.00000000e+00 0.00000000e+00 0.00000000e+00 0.00000000e+00\n",
      "  0.00000000e+00 0.00000000e+00 0.00000000e+00 0.00000000e+00\n",
      "  0.00000000e+00]\n",
      " [7.54844357e-04 6.35658406e-04 3.57557853e-04 1.57819800e-02\n",
      "  5.56201105e-04 3.61463614e-03 3.17829203e-04 9.66166099e-01\n",
      "  1.12192640e-02 5.95929755e-04 0.00000000e+00 0.00000000e+00\n",
      "  0.00000000e+00 0.00000000e+00 0.00000000e+00 0.00000000e+00\n",
      "  0.00000000e+00 0.00000000e+00 0.00000000e+00 0.00000000e+00\n",
      "  0.00000000e+00]\n",
      " [2.15057987e-04 1.81101463e-04 1.01869573e-04 5.65942071e-05\n",
      "  4.40887974e-01 3.39565243e-05 9.05507314e-05 3.43274463e-03\n",
      "  6.79130486e-05 5.54932238e-01 0.00000000e+00 0.00000000e+00\n",
      "  0.00000000e+00 0.00000000e+00 0.00000000e+00 0.00000000e+00\n",
      "  0.00000000e+00 0.00000000e+00 0.00000000e+00 0.00000000e+00\n",
      "  0.00000000e+00]\n",
      " [4.76007282e-01 5.12197008e-01 1.08685173e-02 7.59993931e-05\n",
      "  2.12798301e-04 4.55996359e-05 1.21599029e-04 1.51998786e-04\n",
      "  9.11992717e-05 2.27998179e-04 0.00000000e+00 0.00000000e+00\n",
      "  0.00000000e+00 0.00000000e+00 0.00000000e+00 0.00000000e+00\n",
      "  0.00000000e+00 0.00000000e+00 0.00000000e+00 0.00000000e+00\n",
      "  0.00000000e+00]\n",
      " [4.81214668e-02 1.15716335e-03 5.17136115e-02 3.61613546e-04\n",
      "  7.03137299e-02 2.16968128e-04 8.25873443e-01 7.23227093e-04\n",
      "  4.33936256e-04 1.08484064e-03 0.00000000e+00 0.00000000e+00\n",
      "  0.00000000e+00 0.00000000e+00 0.00000000e+00 0.00000000e+00\n",
      "  0.00000000e+00 0.00000000e+00 0.00000000e+00 0.00000000e+00\n",
      "  0.00000000e+00]\n",
      " [4.38469095e-02 1.05437427e-03 8.46576394e-01 3.29491960e-04\n",
      "  6.40678673e-02 1.97695176e-04 4.18844172e-02 6.58983921e-04\n",
      "  3.95390353e-04 9.88475881e-04 0.00000000e+00 0.00000000e+00\n",
      "  0.00000000e+00 0.00000000e+00 0.00000000e+00 0.00000000e+00\n",
      "  0.00000000e+00 0.00000000e+00 0.00000000e+00 0.00000000e+00\n",
      "  0.00000000e+00]\n",
      " [1.71490025e-03 1.14734207e-01 8.12321173e-04 4.51289540e-04\n",
      "  4.42510794e-02 2.70773724e-04 7.22063265e-04 6.26790893e-02\n",
      "  7.73010408e-01 1.35386862e-03 0.00000000e+00 0.00000000e+00\n",
      "  0.00000000e+00 0.00000000e+00 0.00000000e+00 0.00000000e+00\n",
      "  0.00000000e+00 0.00000000e+00 0.00000000e+00 0.00000000e+00\n",
      "  0.00000000e+00]\n",
      " [1.10565707e-05 7.39732161e-04 5.23732296e-06 2.90962387e-06\n",
      "  8.14694682e-06 1.74577432e-06 4.65539818e-06 5.81924773e-06\n",
      "  1.05890651e-04 9.99114806e-01 0.00000000e+00 0.00000000e+00\n",
      "  0.00000000e+00 0.00000000e+00 0.00000000e+00 0.00000000e+00\n",
      "  0.00000000e+00 0.00000000e+00 0.00000000e+00 0.00000000e+00\n",
      "  0.00000000e+00]\n",
      " [3.64889620e-07 3.07275469e-07 1.72842452e-07 7.62896433e-06\n",
      "  2.68866036e-07 5.76141505e-08 1.53637735e-07 1.92047168e-07\n",
      "  1.15228301e-07 9.99990739e-01 0.00000000e+00 0.00000000e+00\n",
      "  0.00000000e+00 0.00000000e+00 0.00000000e+00 0.00000000e+00\n",
      "  0.00000000e+00 0.00000000e+00 0.00000000e+00 0.00000000e+00\n",
      "  0.00000000e+00]\n",
      " [9.99540582e-01 2.97365884e-04 4.77642650e-06 2.65357028e-06\n",
      "  7.42999677e-06 1.26493881e-04 4.24571244e-06 5.30714055e-06\n",
      "  3.18428433e-06 7.96071083e-06 0.00000000e+00 0.00000000e+00\n",
      "  0.00000000e+00 0.00000000e+00 0.00000000e+00 0.00000000e+00\n",
      "  0.00000000e+00 0.00000000e+00 0.00000000e+00 0.00000000e+00\n",
      "  0.00000000e+00]\n",
      " [6.86771563e-03 1.75395403e-01 1.13923097e-01 1.80729359e-03\n",
      "  5.06042205e-03 1.08437615e-03 2.89166974e-03 2.87174832e-01\n",
      "  1.50607766e-01 2.55187425e-01 0.00000000e+00 0.00000000e+00\n",
      "  0.00000000e+00 0.00000000e+00 0.00000000e+00 0.00000000e+00\n",
      "  0.00000000e+00 0.00000000e+00 0.00000000e+00 0.00000000e+00\n",
      "  0.00000000e+00]]\n"
     ]
    }
   ],
   "source": [
    "posterior = model.infer_labels(aiAnnoA)\n",
    "print(posterior)"
   ]
  },
  {
   "cell_type": "code",
   "execution_count": 236,
   "metadata": {},
   "outputs": [
    {
     "data": {
      "image/png": "[encoded data removed]",
      "text/plain": [
       "<Figure size 432x288 with 2 Axes>"
      ]
     },
     "metadata": {
      "needs_background": "light"
     },
     "output_type": "display_data"
    }
   ],
   "source": [
    "ax = seaborn.heatmap(posterior[:10,])\n",
    "plt.show()"
   ]
  },
  {
   "cell_type": "code",
   "execution_count": null,
   "metadata": {},
   "outputs": [],
   "source": [
    "#None of the coders sticks out as better or worse from the heatmaps.\n",
    "#From looking at the data myself, it seems the third coder was far off from other coders, and from how I would have coded it.\n",
    "#I don't know enough about this output to tell what the majority votes are, but it does seem answers have very different weights."
   ]
  }
 ],
 "metadata": {
  "anaconda-cloud": {},
  "kernelspec": {
   "display_name": "Python 3",
   "language": "python",
   "name": "python3"
  },
  "language_info": {
   "codemirror_mode": {
    "name": "ipython",
    "version": 3
   },
   "file_extension": ".py",
   "mimetype": "text/x-python",
   "name": "python",
   "nbconvert_exporter": "python",
   "pygments_lexer": "ipython3",
   "version": "3.8.5"
  }
 },
 "nbformat": 4,
 "nbformat_minor": 1
}
